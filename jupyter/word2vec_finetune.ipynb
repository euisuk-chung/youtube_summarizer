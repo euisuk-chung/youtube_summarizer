{
 "cells": [
  {
   "cell_type": "markdown",
   "metadata": {
    "id": "jRMM7am79f2L"
   },
   "source": [
    "#  자연어 처리를 위한 NLTK와 KoNLPy 설치하기"
   ]
  },
  {
   "cell_type": "markdown",
   "metadata": {
    "id": "G7ZTOF0f9rxn"
   },
   "source": [
    "## NLTK와 NLTK Data 설치\n",
    "- 엔엘티케이(NLTK)는 자연어 처리를 위한 파이썬 패키지"
   ]
  },
  {
   "cell_type": "code",
   "execution_count": 22,
   "metadata": {
    "colab": {
     "base_uri": "https://localhost:8080/"
    },
    "id": "rm1kjhqY9rV4",
    "outputId": "f5dffae8-092a-43a4-9bad-d9e707e2f08a"
   },
   "outputs": [],
   "source": [
    "# !pip install nltk"
   ]
  },
  {
   "cell_type": "code",
   "execution_count": 23,
   "metadata": {
    "colab": {
     "base_uri": "https://localhost:8080/",
     "height": 35
    },
    "id": "s6ZaZ1W29rA-",
    "outputId": "4effcb3f-a63e-4e89-a752-959f93591922"
   },
   "outputs": [
    {
     "data": {
      "text/plain": [
       "'3.6.2'"
      ]
     },
     "execution_count": 23,
     "metadata": {},
     "output_type": "execute_result"
    }
   ],
   "source": [
    "import nltk\n",
    "nltk.__version__"
   ]
  },
  {
   "cell_type": "code",
   "execution_count": 24,
   "metadata": {
    "id": "XEBrKXaD95i-"
   },
   "outputs": [],
   "source": [
    "# 해당 코드를 실행 후에 NLTK 실습에 필요한 각종 패키지와 코퍼스를 다운로드할 수 있다\n",
    "#nltk.download()"
   ]
  },
  {
   "cell_type": "markdown",
   "metadata": {
    "id": "KiB8SaeG-MF2"
   },
   "source": [
    "## KoNLPY 설치\n",
    "- 코엔엘파이(KoNLPy)는 한국어 자연어 처리를 위한 형태소 분석기 패키지"
   ]
  },
  {
   "cell_type": "code",
   "execution_count": 25,
   "metadata": {
    "colab": {
     "base_uri": "https://localhost:8080/"
    },
    "id": "WQwCcSZ8-QhY",
    "outputId": "4b056a8f-54b2-41fa-a209-158fea5b6c78"
   },
   "outputs": [],
   "source": [
    "#!pip install konlpy"
   ]
  },
  {
   "cell_type": "code",
   "execution_count": 26,
   "metadata": {
    "colab": {
     "base_uri": "https://localhost:8080/",
     "height": 35
    },
    "id": "RotHVV0F-T9K",
    "outputId": "a3ab0d41-510d-4aa3-ebc7-d534d3b62830"
   },
   "outputs": [
    {
     "data": {
      "text/plain": [
       "'0.5.2'"
      ]
     },
     "execution_count": 26,
     "metadata": {},
     "output_type": "execute_result"
    }
   ],
   "source": [
    "import konlpy\n",
    "konlpy.__version__"
   ]
  },
  {
   "cell_type": "markdown",
   "metadata": {},
   "source": [
    "### 한국어 문장분류기(KSS : Korean Sentence Splitter) 설치"
   ]
  },
  {
   "cell_type": "code",
   "execution_count": 27,
   "metadata": {
    "colab": {
     "base_uri": "https://localhost:8080/"
    },
    "id": "kTWOh3lPBxHR",
    "outputId": "731763d2-fc32-4c67-dfe4-e771a1f2c9f2"
   },
   "outputs": [],
   "source": [
    "#! pip install kss"
   ]
  },
  {
   "cell_type": "code",
   "execution_count": 28,
   "metadata": {},
   "outputs": [],
   "source": [
    "import kss"
   ]
  },
  {
   "cell_type": "markdown",
   "metadata": {
    "id": "yhtz-CBQ-hYb"
   },
   "source": [
    "# 텍스트 전처리\n",
    "- 토큰화 : 자연어 처리에서 크롤링 등으로 얻어낸 코퍼스 데이터가 필요에 맞게 전처리되지 않은 상태라면, 해당 데이터를 사용하고자하는 용도에 맞게 토큰화(tokenization) & 정제(cleaning) & 정규화(normalization)하는 일을 하게된다. 이렇듯 주어진 코퍼스에서 토큰이라 불리는 단위로 나눈 작업을 토큰화 작업이라고 부른다."
   ]
  },
  {
   "cell_type": "markdown",
   "metadata": {
    "id": "nfB7WrvXMigK"
   },
   "source": [
    "# 품사 태깅(POS-tagging)"
   ]
  },
  {
   "cell_type": "markdown",
   "metadata": {
    "id": "C7bMGht0OEB2"
   },
   "source": [
    "- 위에서 영어 문장에 대해서 토큰화를 수행하고, 이어서 품사 태깅을 수행하였다. Penn Treebank POG Tags에서 PRP는 인칭 대명사, VBP는 동사, RB는 부사, VBG는 현재부사, IN은 전치사, NNP는 고유 명사, NNS는 복수형 명사, CC는 접속사, DT는 관사를 의미한다.\n",
    "\n",
    "- 각각의 명칭에 대한 줄임말은 다음과 같고, 그 외에 참고할 말한 것들은 다음  사이트에서 확인할 수 있다. [참고링크](https://bluebreeze.co.kr/1357)\n",
    "    - PRP : personal pronoun 인칭 대명사(I, you, he, she)\n",
    "    - VBP : verb, non-third person singular present 3인칭이 아닌 현재형 동사\n",
    "    - RB : adverb\t부사\n",
    "    - VBG : verb, gerund or present 동명사 또는 현재분사(~ing)\n",
    "    - IN : perposition, subordinating conjunction 전치사 종속 접속사\n"
   ]
  },
  {
   "cell_type": "markdown",
   "metadata": {
    "id": "ctD-OCIUM2di"
   },
   "source": [
    "## KoNLPY 활용한 한글 토큰화 실습\n",
    "- 한국어 자연어 처리를 위해서 KoNLPy를 주로 쓴다. KoNLPy를 통해 사용할 수 있는 형태소 분석기로 Okt(Open Korea Text), 메캅(Mecab), 코모란(Komoran), 한나눔(Hannanum), 꼬꼬마(Kkma)가 있다.\n",
    "- 한국어 NLP에서 형태소 분석기를 사용한다는 것은 단어 토큰화가 아니라 정확히는 형태소(morpheme) 단위로 형태소 토큰화(morpheme tokenization)를 수행하게 됨을 뜻한다."
   ]
  },
  {
   "cell_type": "markdown",
   "metadata": {
    "id": "UB_Hk9b2_ZH1"
   },
   "source": [
    "# Word2Vec"
   ]
  },
  {
   "cell_type": "markdown",
   "metadata": {
    "id": "Sa7uhkEGAA9a"
   },
   "source": [
    "**Word2Vec의 하이퍼파라미터 값**\n",
    "\n",
    "- size = 워드 벡터의 특징 값. 즉, 임베딩 된 벡터의 차원.  \n",
    "- window = 컨텍스트 윈도우 크기  \n",
    "- min_count = 단어 최소 빈도 수 제한 (빈도가 적은 단어들은 학습하지 않는다.)  \n",
    "- workers = 학습을 위한 프로세스 수  \n",
    "- sg = 0은 CBOW, 1은 Skip-gram.  "
   ]
  },
  {
   "cell_type": "markdown",
   "metadata": {
    "id": "srvblMW4AOcd"
   },
   "source": [
    "## 한국어 데이터 다운로드 및 전처리"
   ]
  },
  {
   "cell_type": "code",
   "execution_count": 29,
   "metadata": {
    "id": "QVTI-34CATWb"
   },
   "outputs": [],
   "source": [
    "import urllib.request\n",
    "from konlpy.tag import Okt\n",
    "from gensim.models.word2vec import Word2Vec\n",
    "import pandas as pd\n",
    "import matplotlib.pyplot as plt"
   ]
  },
  {
   "cell_type": "code",
   "execution_count": 30,
   "metadata": {},
   "outputs": [
    {
     "data": {
      "text/plain": [
       "'/repo/course/sem21_01/youtube_summarizer/jupyter'"
      ]
     },
     "execution_count": 30,
     "metadata": {},
     "output_type": "execute_result"
    }
   ],
   "source": [
    "import os \n",
    "\n",
    "os.getcwd()"
   ]
  },
  {
   "cell_type": "code",
   "execution_count": 31,
   "metadata": {
    "colab": {
     "base_uri": "https://localhost:8080/",
     "height": 380
    },
    "id": "FIdK1h5Gpb4C",
    "outputId": "9b5a7a44-de45-45db-a267-32ed4db70228"
   },
   "outputs": [
    {
     "name": "stdout",
     "output_type": "stream",
     "text": [
      "shape : (260697, 5)\n"
     ]
    },
    {
     "data": {
      "text/html": [
       "<div>\n",
       "<style scoped>\n",
       "    .dataframe tbody tr th:only-of-type {\n",
       "        vertical-align: middle;\n",
       "    }\n",
       "\n",
       "    .dataframe tbody tr th {\n",
       "        vertical-align: top;\n",
       "    }\n",
       "\n",
       "    .dataframe thead th {\n",
       "        text-align: right;\n",
       "    }\n",
       "</style>\n",
       "<table border=\"1\" class=\"dataframe\">\n",
       "  <thead>\n",
       "    <tr style=\"text-align: right;\">\n",
       "      <th></th>\n",
       "      <th>media</th>\n",
       "      <th>id</th>\n",
       "      <th>article_original</th>\n",
       "      <th>abstractive</th>\n",
       "      <th>extractive</th>\n",
       "    </tr>\n",
       "  </thead>\n",
       "  <tbody>\n",
       "    <tr>\n",
       "      <th>0</th>\n",
       "      <td>부산일보</td>\n",
       "      <td>360972161</td>\n",
       "      <td>[지난해 고령화와 유례가 드문 겨울 한파 등 영향으로 우리나라 사망자 수가 통계 작...</td>\n",
       "      <td>통계청이 발표한 '2018년 사망원인통계'를 보면 지난해 총 사망자 수는 관련 통계...</td>\n",
       "      <td>[4, 11, 18]</td>\n",
       "    </tr>\n",
       "    <tr>\n",
       "      <th>1</th>\n",
       "      <td>중도일보</td>\n",
       "      <td>356659913</td>\n",
       "      <td>[서산시의회(의장 임재관) 가충순·이수의 의원이 (사)한국지역신문협회에서 수여하는 ...</td>\n",
       "      <td>서산시 가충순 의원과 이수의 의원이 활발한 의정활동을 펼친 감사의 표시로 한국지역신...</td>\n",
       "      <td>[1, 3, 4]</td>\n",
       "    </tr>\n",
       "    <tr>\n",
       "      <th>2</th>\n",
       "      <td>무등일보</td>\n",
       "      <td>351718460</td>\n",
       "      <td>[지난 2004년 시작해 조선대 학생들의 대표적인 행사로 자리매김한 ‘조선대 국토대...</td>\n",
       "      <td>‘조선대의 새로운 비상을 꿈꾸다’를 슬로건으로 진행되어 단체생활을 통해 협동심과 ...</td>\n",
       "      <td>[0, 2, 4]</td>\n",
       "    </tr>\n",
       "    <tr>\n",
       "      <th>3</th>\n",
       "      <td>이데일리</td>\n",
       "      <td>335868123</td>\n",
       "      <td>[서울시는 신학기가 시작되는 다음달 4일부터 고등학교 3학년 무상급식을 실시한다고 ...</td>\n",
       "      <td>서울시가 다음달 4일부터 서울 시내 319개 고등학교 3학년 8만4700명을 대상으...</td>\n",
       "      <td>[0, 1, 2]</td>\n",
       "    </tr>\n",
       "    <tr>\n",
       "      <th>4</th>\n",
       "      <td>서울신문</td>\n",
       "      <td>351443347</td>\n",
       "      <td>[미국인 선교사가 우간다에서 의사 행세를 하며 의료 시설을 운영한 혐의로 지역 시민...</td>\n",
       "      <td>미국인 선교사가 우간다에서 의사 행세를 하며 두 아이의 죽음과 관련돼 있다며 지역 ...</td>\n",
       "      <td>[0, 1, 2]</td>\n",
       "    </tr>\n",
       "  </tbody>\n",
       "</table>\n",
       "</div>"
      ],
      "text/plain": [
       "  media         id                                   article_original  \\\n",
       "0  부산일보  360972161  [지난해 고령화와 유례가 드문 겨울 한파 등 영향으로 우리나라 사망자 수가 통계 작...   \n",
       "1  중도일보  356659913  [서산시의회(의장 임재관) 가충순·이수의 의원이 (사)한국지역신문협회에서 수여하는 ...   \n",
       "2  무등일보  351718460  [지난 2004년 시작해 조선대 학생들의 대표적인 행사로 자리매김한 ‘조선대 국토대...   \n",
       "3  이데일리  335868123  [서울시는 신학기가 시작되는 다음달 4일부터 고등학교 3학년 무상급식을 실시한다고 ...   \n",
       "4  서울신문  351443347  [미국인 선교사가 우간다에서 의사 행세를 하며 의료 시설을 운영한 혐의로 지역 시민...   \n",
       "\n",
       "                                         abstractive   extractive  \n",
       "0  통계청이 발표한 '2018년 사망원인통계'를 보면 지난해 총 사망자 수는 관련 통계...  [4, 11, 18]  \n",
       "1  서산시 가충순 의원과 이수의 의원이 활발한 의정활동을 펼친 감사의 표시로 한국지역신...    [1, 3, 4]  \n",
       "2   ‘조선대의 새로운 비상을 꿈꾸다’를 슬로건으로 진행되어 단체생활을 통해 협동심과 ...    [0, 2, 4]  \n",
       "3  서울시가 다음달 4일부터 서울 시내 319개 고등학교 3학년 8만4700명을 대상으...    [0, 1, 2]  \n",
       "4  미국인 선교사가 우간다에서 의사 행세를 하며 두 아이의 죽음과 관련돼 있다며 지역 ...    [0, 1, 2]  "
      ]
     },
     "execution_count": 31,
     "metadata": {},
     "output_type": "execute_result"
    }
   ],
   "source": [
    "import json\n",
    "import pandas as pd\n",
    "\n",
    "path = '/repo/course/sem21_01/youtube_summarizer/dataset/article_dataset/train.jsonl'\n",
    "\n",
    "### bfly train\n",
    "sent_df = pd.read_json(path, lines=True, encoding=\"utf-8\")\n",
    "print('shape : {}'.format(sent_df.shape))\n",
    "sent_df.head()"
   ]
  },
  {
   "cell_type": "code",
   "execution_count": 32,
   "metadata": {},
   "outputs": [],
   "source": [
    "texts = ' '.join([article[0] for article in sent_df['article_original'].values])"
   ]
  },
  {
   "cell_type": "code",
   "execution_count": 33,
   "metadata": {},
   "outputs": [
    {
     "data": {
      "text/plain": [
       "109150"
      ]
     },
     "execution_count": 33,
     "metadata": {},
     "output_type": "execute_result"
    }
   ],
   "source": [
    "import re\n",
    "# 영어 단어가 생각보다 많네?\n",
    "eng = re.findall('([a-zA-Z]{1,})', texts)\n",
    "len(eng)"
   ]
  },
  {
   "cell_type": "code",
   "execution_count": null,
   "metadata": {
    "colab": {
     "base_uri": "https://localhost:8080/",
     "height": 52
    },
    "id": "735k2D9_u4tH",
    "outputId": "17dc6702-4366-4f46-e7a6-34298b3379d7"
   },
   "outputs": [
    {
     "data": {
      "application/vnd.google.colaboratory.intrinsic+json": {
       "type": "string"
      },
      "text/plain": [
       "'bash\\ncd /tmp\\ngit clone https://bitbucket.org/eunjeon/mecab-python-0.996.git\\ncd mecab-python-0.996\\npython3 setup.py build\\npython3 setup.py install\\n'"
      ]
     },
     "execution_count": 38,
     "metadata": {
      "tags": []
     },
     "output_type": "execute_result"
    }
   ],
   "source": [
    "# mecab - 방법1\n",
    "# https://sosomemo.tistory.com/30\n",
    "# Mecab설치\n",
    "'''bash\n",
    "cd /tmp\n",
    "sudo wget https://bitbucket.org/eunjeon/mecab-ko/downloads/mecab-0.996-ko-0.9.2.tar.gz\n",
    "sudo tar xvf mecab-0.996-ko-0.9.2.tar.gz\n",
    "\n",
    "cd /tmp/mecab-0.996-ko-0.9.2\n",
    "sudo ./configure\n",
    "sudo make check\n",
    "sudo make install\n",
    "'''\n",
    "\n",
    "'''bash\n",
    "cd /tmp\n",
    "wget https://bitbucket.org/eunjeon/mecab-ko-dic/downloads/mecab-ko-dic-2.1.1-20180720.tar.gz\n",
    "tar zxvf mecab-ko-dic-2.1.1-20180720.tar.gz\n",
    "\n",
    "cd /tmp/mecab-ko-dic-2.1.1-20180720\n",
    "sudo ./autogen.sh\n",
    "sudo ./configure\n",
    "sudo make\n",
    "sudo make install\n",
    "'''\n",
    "\n",
    "'''bash\n",
    "cd /tmp\n",
    "git clone https://bitbucket.org/eunjeon/mecab-python-0.996.git\n",
    "cd mecab-python-0.996\n",
    "python3 setup.py build\n",
    "python3 setup.py install\n",
    "'''"
   ]
  },
  {
   "cell_type": "code",
   "execution_count": null,
   "metadata": {
    "colab": {
     "base_uri": "https://localhost:8080/"
    },
    "id": "JnsWHJSgCTV_",
    "outputId": "7b35e545-df50-4ab4-aba6-e24588339b36"
   },
   "outputs": [
    {
     "name": "stdout",
     "output_type": "stream",
     "text": [
      "Requirement already satisfied: konlpy in /usr/local/lib/python3.7/dist-packages (0.5.2)\n",
      "Requirement already satisfied: colorama in /usr/local/lib/python3.7/dist-packages (from konlpy) (0.4.4)\n",
      "Requirement already satisfied: JPype1>=0.7.0 in /usr/local/lib/python3.7/dist-packages (from konlpy) (1.2.1)\n",
      "Requirement already satisfied: tweepy>=3.7.0 in /usr/local/lib/python3.7/dist-packages (from konlpy) (3.10.0)\n",
      "Requirement already satisfied: lxml>=4.1.0 in /usr/local/lib/python3.7/dist-packages (from konlpy) (4.2.6)\n",
      "Requirement already satisfied: numpy>=1.6 in /usr/local/lib/python3.7/dist-packages (from konlpy) (1.19.5)\n",
      "Requirement already satisfied: beautifulsoup4==4.6.0 in /usr/local/lib/python3.7/dist-packages (from konlpy) (4.6.0)\n",
      "Requirement already satisfied: typing-extensions; python_version < \"3.8\" in /usr/local/lib/python3.7/dist-packages (from JPype1>=0.7.0->konlpy) (3.7.4.3)\n",
      "Requirement already satisfied: requests-oauthlib>=0.7.0 in /usr/local/lib/python3.7/dist-packages (from tweepy>=3.7.0->konlpy) (1.3.0)\n",
      "Requirement already satisfied: requests[socks]>=2.11.1 in /usr/local/lib/python3.7/dist-packages (from tweepy>=3.7.0->konlpy) (2.23.0)\n",
      "Requirement already satisfied: six>=1.10.0 in /usr/local/lib/python3.7/dist-packages (from tweepy>=3.7.0->konlpy) (1.15.0)\n",
      "Requirement already satisfied: oauthlib>=3.0.0 in /usr/local/lib/python3.7/dist-packages (from requests-oauthlib>=0.7.0->tweepy>=3.7.0->konlpy) (3.1.0)\n",
      "Requirement already satisfied: chardet<4,>=3.0.2 in /usr/local/lib/python3.7/dist-packages (from requests[socks]>=2.11.1->tweepy>=3.7.0->konlpy) (3.0.4)\n",
      "Requirement already satisfied: urllib3!=1.25.0,!=1.25.1,<1.26,>=1.21.1 in /usr/local/lib/python3.7/dist-packages (from requests[socks]>=2.11.1->tweepy>=3.7.0->konlpy) (1.24.3)\n",
      "Requirement already satisfied: certifi>=2017.4.17 in /usr/local/lib/python3.7/dist-packages (from requests[socks]>=2.11.1->tweepy>=3.7.0->konlpy) (2020.12.5)\n",
      "Requirement already satisfied: idna<3,>=2.5 in /usr/local/lib/python3.7/dist-packages (from requests[socks]>=2.11.1->tweepy>=3.7.0->konlpy) (2.10)\n",
      "Requirement already satisfied: PySocks!=1.5.7,>=1.5.6; extra == \"socks\" in /usr/local/lib/python3.7/dist-packages (from requests[socks]>=2.11.1->tweepy>=3.7.0->konlpy) (1.7.1)\n",
      "Reading package lists... Done\n",
      "Building dependency tree       \n",
      "Reading state information... Done\n",
      "curl is already the newest version (7.58.0-2ubuntu3.13).\n",
      "git is already the newest version (1:2.17.1-1ubuntu0.8).\n",
      "The following package was automatically installed and is no longer required:\n",
      "  libnvidia-common-460\n",
      "Use 'sudo apt autoremove' to remove it.\n",
      "0 upgraded, 0 newly installed, 0 to remove and 55 not upgraded.\n",
      "mecab-ko is already installed\n",
      "mecab-ko-dic is already installed\n",
      "mecab-python is already installed\n",
      "Done.\n"
     ]
    }
   ],
   "source": [
    "# mecab 설치 - 방법1\n",
    "# ! pip install konlpy\n",
    "# ! sudo apt-get install curl git\n",
    "# ! bash <(curl -s https://raw.githubusercontent.com/konlpy/konlpy/master/scripts/mecab.sh)"
   ]
  },
  {
   "cell_type": "code",
   "execution_count": 34,
   "metadata": {
    "id": "mULhS6PUrPGY"
   },
   "outputs": [],
   "source": [
    "from konlpy.tag import Okt  \n",
    "from konlpy.tag import Mecab\n",
    "mecab = Mecab()\n",
    "#okt = Okt()"
   ]
  },
  {
   "cell_type": "code",
   "execution_count": 35,
   "metadata": {
    "id": "nToHnaxIGU29"
   },
   "outputs": [],
   "source": [
    "#stopwords = ['의','가','이','은','들','는','좀','잘','걍','과','도','을','를','으로','자','에','와','한','하다', '합니다', '입니다']\n",
    "stopwords = ['을', '를', '이', '가', '은', '는', '의', '에', '와', '으로', '합니다', '입니다']"
   ]
  },
  {
   "cell_type": "code",
   "execution_count": 36,
   "metadata": {
    "id": "SWfeawS4NsqC"
   },
   "outputs": [],
   "source": [
    "import re"
   ]
  },
  {
   "cell_type": "code",
   "execution_count": 37,
   "metadata": {
    "id": "fjsut73Q8szP"
   },
   "outputs": [],
   "source": [
    "tokenized_news_data = []\n",
    "for news in sent_df['article_original']:\n",
    "    for sentence in news:\n",
    "        #print(f'previous : {sentence}')\n",
    "        tmp_sen = re.sub('[^가-힣a-z]', ' ', sentence) # 영어 소문자와 한글을 제외한 모든 문자를 제거\n",
    "        temp_X = mecab.morphs(tmp_sen) # 토큰화\n",
    "        temp_X = [word for word in temp_X if not word in stopwords] # 불용어 제거\n",
    "        #print(f'after : {temp_X}')\n",
    "        tokenized_news_data.append(temp_X)"
   ]
  },
  {
   "cell_type": "code",
   "execution_count": 38,
   "metadata": {
    "id": "63Y7RVuEr0kN"
   },
   "outputs": [],
   "source": [
    "import pickle\n",
    "\n",
    "pk_path = '/repo/course/sem21_01/youtube_summarizer/dataset/article_tokenized/tokenized_news_data.pkl'\n",
    "\n",
    "# save pickle file\n",
    "with open(pk_path, 'wb') as f:\n",
    "    pickle.dump(tokenized_news_data, f)"
   ]
  },
  {
   "cell_type": "code",
   "execution_count": 20,
   "metadata": {},
   "outputs": [],
   "source": [
    "import pickle\n",
    "\n",
    "pk_path = '/repo/course/sem21_01/youtube_summarizer/dataset/article_tokenized/tokenized_news_data.pkl'\n",
    "\n",
    "# load pickle file\n",
    "with open(pk_path, 'rb') as f:\n",
    "     tokenized_news_data = pickle.load(f)"
   ]
  },
  {
   "cell_type": "code",
   "execution_count": 39,
   "metadata": {},
   "outputs": [
    {
     "data": {
      "text/plain": [
       "['지난해',\n",
       " '고령화',\n",
       " '유례',\n",
       " '드문',\n",
       " '겨울',\n",
       " '한파',\n",
       " '등',\n",
       " '영향',\n",
       " '우리나라',\n",
       " '사망자',\n",
       " '수',\n",
       " '통계',\n",
       " '작성',\n",
       " '이후',\n",
       " '가장',\n",
       " '많',\n",
       " '았',\n",
       " '다']"
      ]
     },
     "execution_count": 39,
     "metadata": {},
     "output_type": "execute_result"
    }
   ],
   "source": [
    "tokenized_news_data[0]"
   ]
  },
  {
   "cell_type": "code",
   "execution_count": 40,
   "metadata": {
    "colab": {
     "base_uri": "https://localhost:8080/"
    },
    "id": "1GB1qowgS0iF",
    "outputId": "0a121ff9-9b47-466b-e7fe-989512343c9a"
   },
   "outputs": [
    {
     "data": {
      "text/plain": [
       "'지난해 고령화와 유례가 드문 겨울 한파 등 영향으로 우리나라 사망자 수가 통계 작성 이후 가장 많았다.'"
      ]
     },
     "execution_count": 40,
     "metadata": {},
     "output_type": "execute_result"
    }
   ],
   "source": [
    "sent_df['article_original'][0][0]"
   ]
  },
  {
   "cell_type": "code",
   "execution_count": 41,
   "metadata": {},
   "outputs": [
    {
     "data": {
      "text/plain": [
       "['작년', '사망자', '만', '명', '역대', '최다']"
      ]
     },
     "execution_count": 41,
     "metadata": {},
     "output_type": "execute_result"
    }
   ],
   "source": [
    "tokenized_news_data[3]"
   ]
  },
  {
   "cell_type": "code",
   "execution_count": 42,
   "metadata": {},
   "outputs": [
    {
     "data": {
      "text/plain": [
       "['지난해 고령화와 유례가 드문 겨울 한파 등 영향으로 우리나라 사망자 수가 통계 작성 이후 가장 많았다.',\n",
       " '폐렴과 치매의 일종인 알츠하이머병은 지난해 사망원인 순위 3위와 9위로 전년보다 각각 한 단계, 두 단계 상승하는 등 노인성 질병에 의한 사망률이 급증하는 추세다.',\n",
       " '‘연령표준화 사망률’(표준인구 10만 명당 사망자 수)은 울산·충북·부산 순으로 높게 나타났다.',\n",
       " '■작년 사망자 29만 8820명, 역대 최다',\n",
       " \"24일 통계청이 발표한 '2018년 사망원인통계'를 보면 지난해 총 사망자 수는 전년 대비 4.7%(1만 3286명) 증가한 29만 8820명으로 관련 통계를 작성한 1983년 이후 가장 많았으며, 5년 연속 증가세를 보였다.\",\n",
       " '통계청은 인구 구조의 고령화와 지난해 1~2월 유례가 드문 한파 등을 그 원인으로 꼽았다.',\n",
       " '지난해 조사망률(인구 10만 명당 사망자 수) 역시 582.5명으로 전년보다 4.5%(25.1명) 증가해 5년 연속 늘었다.',\n",
       " '특히 80세 이상의 사망자가 전체 사망자의 절반에 가까운 46.3%로, 10년 전보다 14.3%포인트(P)나 증가했다.',\n",
       " '■폐렴·알츠하이머병 사망률 순위 ‘껑충’',\n",
       " '사망원인별로 보면 지난해 암(악성신생물)에 의한 사망률(이하 인구 10만 명당 사망자 수)은 154.3명으로 전년보다 0.2% 증가했다.',\n",
       " '1983년 관련 통계를 집계한 이래 줄곧 암이 사망원인 1위로 집계됐다.',\n",
       " '특히 폐렴(4위→3위)과 치매의 일종인 알츠하이머병(11위→9위)에 의한 사망률 순위 상승이 두드러졌다.',\n",
       " '폐렴 사망률은 2004년 10위에서 꾸준히 순위가 상승하고 있고, 알츠하이머병 사망률 역시 통계 작성 이래 10대 사인에 처음 포함됐다.',\n",
       " '지난해 알츠하이머병에 의한 사망률은 12.0명으로 전년(9.8명) 대비 22.5% 증가했다.',\n",
       " '알츠하이머병 사망률은 10년 전(3.8명)과 비교하면 무려 214.2% 증가했다.',\n",
       " '폐렴 사망률은 45.4명으로 전년(37.8명) 대비 20.0% 증가했다.',\n",
       " '알코올 관련 사망률은 9.6명으로 전년보다 2.0% 늘었다.',\n",
       " '■자살률 5년 만에 증가…\"베르테르 효과 영향\"',\n",
       " '지난해 자살에 의한 사망자는 1만 3670명으로 전년보다 9.7%(1207명) 증가했다.',\n",
       " '자살률은 26.6명으로 전년보다 2.3명(9.5%) 증가했다.',\n",
       " '자살률은 2013년 28.5명, 2014년 27.3명, 2015년 26.5명, 2016년 25.6명, 2017년 24.3명 등 4년 연속 줄어들다가 5년 만에 증가세로 돌아섰다.',\n",
       " '자살은 10∼30대까지 사망원인 순위 1위를 차지했고, 40∼50대에서도 2위를 기록했다.',\n",
       " '김진 통계청 인구동향과장은 \"자살에는 베르테르 효과, 즉 유명인 자살이 영향을 준다.',\n",
       " '2011년 이후 유명인 자살이 줄면서 자살이 줄었는데 지난해에는 유명인 자살이 있어 영향을 줬다\"고 설명했다.',\n",
       " '지역 간 연령구조 차이를 표준화한 사망률(표준인구 10만 명당 사망자 수)을 보면 울산(355.3명), 충북(352.6명), 부산(350.8명)이 높았고, 서울(283.3명)과 경기(306.8명)가 낮았다.',\n",
       " '사인별로 연령표준화 사망률이 높은 지역을 보면 암은 경남(101.5명), 심장 질환은 경남(44.6명), 뇌혈관 질환은 울산(30.6명), 폐렴은 경북(30.3명), 운수사고는 전남(14.4명), 고의적 자해(자살)는 충남(29.8명)이었다.']"
      ]
     },
     "execution_count": 42,
     "metadata": {},
     "output_type": "execute_result"
    }
   ],
   "source": [
    "sent_df['article_original'][0]"
   ]
  },
  {
   "cell_type": "markdown",
   "metadata": {
    "id": "fh41lNSUI64T"
   },
   "source": [
    "### import pretrained model\n",
    "**Pretraining 환경**\n",
    "~~~\n",
    "def train_word2vec(corpus_fname, model_fname):\n",
    "    make_save_path(model_fname)\n",
    "    corpus = Word2VecCorpus(corpus_fname)\n",
    "    model = Word2Vec(corpus, size=100, workers=4, sg=1)\n",
    "    model.save(model_fname)\n",
    "~~~"
   ]
  },
  {
   "cell_type": "code",
   "execution_count": 43,
   "metadata": {},
   "outputs": [],
   "source": [
    "from gensim.models import Word2Vec"
   ]
  },
  {
   "cell_type": "code",
   "execution_count": 44,
   "metadata": {
    "id": "IZgwVWwE1iW3"
   },
   "outputs": [
    {
     "data": {
      "text/plain": [
       "<gensim.models.word2vec.Word2Vec at 0x7fe3cceb8630>"
      ]
     },
     "execution_count": 44,
     "metadata": {},
     "output_type": "execute_result"
    }
   ],
   "source": [
    "import gensim\n",
    "from gensim.models import Word2Vec\n",
    "\n",
    "w2v_path = '/repo/course/sem21_01/youtube_summarizer/dataset/pretrained_word2vec/word2vec'\n",
    "\n",
    "model = Word2Vec.load(w2v_path)\n",
    "\n",
    "model\n"
   ]
  },
  {
   "cell_type": "code",
   "execution_count": 45,
   "metadata": {},
   "outputs": [],
   "source": [
    "model.wv.save_word2vec_format(\"/repo/course/sem21_01/youtube_summarizer/dataset/pretrained_word2vec/word2vec.bin.gz\", binary=False)"
   ]
  },
  {
   "cell_type": "markdown",
   "metadata": {
    "id": "hh8RGVZBI-ZX"
   },
   "source": [
    "### finetune pretrained model"
   ]
  },
  {
   "cell_type": "code",
   "execution_count": 46,
   "metadata": {},
   "outputs": [],
   "source": [
    "# define new model\n",
    "model_2 = Word2Vec(size=100, workers=4, sg=1)\n",
    "\n",
    "# make voacb\n",
    "model_2.build_vocab(tokenized_news_data)"
   ]
  },
  {
   "cell_type": "code",
   "execution_count": 47,
   "metadata": {},
   "outputs": [
    {
     "name": "stdout",
     "output_type": "stream",
     "text": [
      "3300370\n"
     ]
    }
   ],
   "source": [
    "total_examples = model_2.corpus_count\n",
    "print(total_examples)"
   ]
  },
  {
   "cell_type": "code",
   "execution_count": 48,
   "metadata": {},
   "outputs": [],
   "source": [
    "model_2.build_vocab([list(model.wv.vocab.keys())], update=True)\n",
    "model_2.intersect_word2vec_format(\"/repo/course/sem21_01/youtube_summarizer/dataset/pretrained_word2vec/word2vec.bin.gz\", binary=False)\n"
   ]
  },
  {
   "cell_type": "code",
   "execution_count": 49,
   "metadata": {},
   "outputs": [
    {
     "name": "stderr",
     "output_type": "stream",
     "text": [
      "/usr/local/lib/python3.6/dist-packages/ipykernel_launcher.py:1: DeprecationWarning: Call to deprecated `iter` (Attribute will be removed in 4.0.0, use self.epochs instead).\n",
      "  \"\"\"Entry point for launching an IPython kernel.\n"
     ]
    },
    {
     "data": {
      "text/plain": [
       "(378023619, 437498110)"
      ]
     },
     "execution_count": 49,
     "metadata": {},
     "output_type": "execute_result"
    }
   ],
   "source": [
    "model_2.train(tokenized_news_data, total_examples=total_examples, epochs=model_2.iter)"
   ]
  },
  {
   "cell_type": "code",
   "execution_count": 50,
   "metadata": {},
   "outputs": [
    {
     "name": "stdout",
     "output_type": "stream",
     "text": [
      "소요액,채태병,음식창,박병술,여년,김병숙,순매도,ublic,쑥스럽,쑥스러운,이승동,담보금,박남천,아침상,uman,esource,정봉기,생착률,정만기,창호재,농막,inance,ower,oom,흥부가,동리국,치러낼,탁상행정,이창형,반측,rivate,wards,박창완,도석구,양원돈,냉열,물어봐야,민경서,김용장,uard,eace,정대진,고규창,ngineering,uclear,nergy,treemm,imaeil,ake,illennial,rands,arget,투찰,면키,molit,jindo,본품,속충,긴들,ody,rame,olorado,eep,백종빈,pring,gor,높여왔,철음식,산화바나듐,이병래,ongress,면역원성,삼척항,심재권,월동채소,떠맡긴,최윤규,ictory,aik,liday,peech,신동렬,rogram,곽안나,정개특위,전지분유,cean,tore,arina,치금,하현회,kozmo,시집와서,수검자,arket,정회진,약건,주택건설공사,떨어진데다,전화료,끌려다닌,서상영,릭스미스,김삼호,조영임,고서곤,문종배,노환중,앞장선다는,immy,허인철,박세열,gcon,ights,illage,ueen,iamond,순이자,이덕선,egulation,andbox,icense,sset,디스인플레이션,저물가,개인서비스,거부지,ove,발령일,건으로,backstop,ilm,estival,주민자,낮춰줄,egno,서영경,이득수,약보합세,굴토,ommercial,peration,여객실,김병내,장생포항,황인홍,yoonki,강신덕,가을갈이,경영비,반등세,감척,이은학,민세희,황성태,임숙자,대한볼링협회,양껏,mployment,utlook,uture,eeling,omething,김황배,강보합세,이르면,고광현,전이암,대한체조협회,ulture,ourism,avel,iesta,이숙애,곽병창,넓혀갈,최해영,박일평,드영,이돈흥,송필용,정상섭,ive,hanks,유영상,orporate,송영관,bhc,조인동,조현배,다산역,이원율,김봉운,oilet,lobal,arketplace,ipeline,evice,erver,심축,이천만,강미혜,obo,ikipedia,스피커폰,신홍균,재시험,윤태훈,윤형숙,신중섭,이뤄지다,박창진,alo,제빙기,이강안,도드라진다,이월금,몰세,김도년,윗물,아랫물,inear,nduction,otor,유지류,되가져,sms,관망세,높여갈,지켜본다는,임상기,신치수,광대놀음,김점수,김오연,깡깡,민속제,목신제,후강사,ython,김운선,가동률,ingles,양기호,appy,rts,균핵병,황토밭,채종포,팔려나갈,avid,uthority,격타,nfra,취사부,바가지요금,정윤모,맹추위,걷어붙였,상업자,ndia,권평오,uper,수요지,반원익,다져야,노명선,김훈영,amsung,oftware,cademy,itty,xpo,구인난,집합지,odern,egacy,한석주,김하규,뛴다는,냉재,오태완,가져볼,화인텍,rexit,개막사,ool,ummer,acance,장은경,ommon,임봉호,정정용,이필재,verywhere,posco,oung,연행사,치매센터,괴산호,erfect,권고사직,강지호,윤유빈,인계인수,대작물,호재성,점멸기,장승주,출렁일,둘러봐야,코섹,emand,유동광,섀너핸,희망근로사업,견줘서,승하선,isco,artner,nnovation,hallenge,ulti,uthentication,ush,ubi,assword,반걸음,혼수철,삼중고,상승국,이래라,저래라,신하영,감산점,쇄석기,ocument,ecurity,ecognition,rrangement,직통버스,박천홍,손봉수,대주기,팽창기,kdma,부숙,물싸움,바나나보트,정종순,한국경총,안경덕,문유진,강호갑,김윤자,김선현,고유성,매야,갱엿,oods,erson,ort,장중식,백기영,유원대,박무익,배전함,무자본,박재남,임재업,홍순욱,중노위,출렁였,방기선,끌어올려야,제거율,obile,ommunications,맡겨둘,햇동,kookje,orld,정성지,mpact,ransformation,페이퍼리스,paperless,latform,문경안,양휘부,한창원,영업비,류창수,자가소비,사일리지,이병창,재활용률,saramin,내셔날 ,들어서는,나갔으면,색바람,뼈아프,묻어났,나형균,ndustry,ntent,aipem,oint,enture,ritish,etroleum,elcome,treet,방범등,유희숙,배호열,인안전,김중래,uick,bokjiro,입마개,조선내화,강호찬,조현상,hange,hance,기졸,고한석,명벌,omfort,판촉전,노상권,laytn,pbit,ungible,oken,allet,uobi,hone,rotocol,ecentralized,pplication,tate,한재선,부두다,김연명,추종석,ync,apid,urve,ertical,lignment,aver,licker,creen,isplay,roptech,rop,roperty,색다름,보합세,조태규,옷매무새,퇴비사,축종,마형렬,마찬호,쭈를,rab,ealth,노천욕,bleeder,이지열,밟혔,석정훈,밀어붙여야,류민하,갖춘데다,smtech,빠져볼,소리개,전경훈,ublishing,actory,조용국,rocess,eople,hings,박필준,강성기,차문호,호도반도,정희용,ohnson,진홍국,병역특례제도,김두년,정은보,드하트,김택근,전원식,송명주,tena,탈질,바이옴,양갑석,rix,김준동,jecheon,cale,ttp,삼성점,토슈즈,신규수,ecession,강원산,ire,oodle,ood,유동국,신필균,보장급,면역원,rump,일일히,olt,급락세,ntellectual,청주서,돼지해,건각,조웅래,박관석,전호종,송종욱,너끈히,배충식,aby,ndigo,권순석,swcf,류재웅,obot,물걸레,iiv,ith,inyl,agic,eap,자은도,끼쳐드려,교통지옥,편다고,공도교,엽경채류,유해용,이뤄지기를,촉탁의,규제책,iper,eidsieck,와인나라,유동규,평화관광,quare,홍종진,uac,interpark,uscle,ellon,obotics,rtificial,mbedded,ensors,거둔다면,체납액,낙관론,돌아봐도,탈락률,타임카드,세권,사납금,이인균,공항세,폴리부텐,탄분,사람인,윤영길,illy,공교육비,제이브이,양호석,집라인,윤양수,이영봉,이계연,면피성,다진다는,실매,시세표,임종찬,임인자,최형표,휴직자,작두콩,조범구,eparation,ased,etworking,efined,etworks,entric,nfrastructure,총호,안기태,오명희,lhsskf,이월액,lova,cinespacejuan,윤택림,rade,확대법,임일순,똥줄,redit,ards,ual,이감규,참물,송창헌,김호용,강형원,합화,돋울,쌀강정,양홍규,찾아와야,전시정,갑당,siana,김은섭,공영운,송기득,권혁대,볼멘소리,eform,미루기,조용병,적정가,nfo,ession,출고량,기술료,서노송,임주아,신계숙,oyalty,nterprise,thereum,lliance,주담,톰포드,김용목,이길형,ommunity,arden,탄소지,억분,oscow,켑카,켑카는,oeing,박창헌,잇솔,윤재갑,송경환,감사일,쉑이,쉑은,암행감찰,한형기,tep,ilt,단속기,컨셉팅,shjang,이상표,안명규,이효숙,오스스,국숫집,박찬식,강정효,irls,아재미,대구소방본부,이제혁,카운터포인트,우오현,장기근속,ealing,ature,istory,antasy,프라퍼,나트랑,최형재,홍상우,역귀성,성수품,남칠우,aja,ormula,이하자,잠혈,부구욱,윤규상,exa,onsumer,anagement,이달석,alent,oost,chools,박제화,침제,jeonnam,비겨도,달굴,기준층,발붙이,김복철,지대리,ournal,edicine,인수단,hinking,roup,unning,pody,ultural,전용문,상중순,정종제,재배당,박갑수,hristmas,의심증,cdc,입찰서,절전기,분전함,의무화,터줬,청출,직원회의,송용섭,금융채,주가연,생결,공모선,포장기,hampionship,권대수,전대진,아임스,계고장,ommunication,ervices,이홍준,최계운,alaxy,ocus,teady,nfinity,hantom,ngel,박형윤,다뤘으면,권혁문,olo,술심,nti,oney,모은다면,장섬유,손창일,달기약수탕,김장주,구윤철,트라우벨,irst,연비누,폐건전지,ormal,말잔치,허대만,권경환,개식사,폐식사,박순창,소독소,강알칼리,ction,배상복,펼칠지,농철,rowing,농창,창업비,펼쳐갈,이완재,배인영,실핏줄,고지석,무분규,이태봉,시건장치,중량물,보여줄지,이진식,이종협,류기형,rendy,이기표,emo,형추,errain,lectronics,xtreme,활황세,류정선,eaf,청약률,미다시,lameda,도묵,미용원,정화장,quator,rinciples,국제금융공사,dvisors,artners,ond,verweight,도급제,짭쪼름한,신선육,재고율,양성광,높일지,추념사,안승권,칭도,암홀,김순일,온수관,문기관,강경래,행료,덧발라,ydp,에듀 ,대방건설,고상환,ommand,최찬용,재협의,채희봉,ntertainment,esign,김구산,학년생,종오리,산란율,songh,최장훈,송창권,허법,hometax,세굴,자투리땅,지작,윤순진,장영표,박은덕,머큐어,psh,세워왔,제살,assive,보합권,반락,tephen,eter,브루잉,mazing,reat,maging,adar,raffic,ompact,idar,이동금,우량종자,미친다면,citytour,eong,oncert,oecd,민병언,황정기,늦춰야,청명주,주형철,샤프카트,선공후사,자천타천,정융기,조현택,고영하,최수만,복합장르,etro,ewtro,신인석,goe,eclaration,류용재,김환채,감정관,강성영,박재구,전영현,강원혁,실습수업,remier,isual,erchandising,임진주,말맛,흥행세,선보여온,이진락,실수요,무색소,물김,최지윤,농용,이기흥,원승연,nline,ffline,박호형,밭담,독필,무보수,부대비,시민주권,황종연,ands,케이주,심완보,rirang,olytechnic,urin,반별,alling,aves,토양산도,진미석,임홍택,oin,ogether,ociety,커피차,숨죽인,ews,rone,격일제,소성규,나영돈,한종관,떼일,atural,rocessing,nderstanding,eneration,주거면,류훈,잡완,속상함,보여드려서,빗나갈,ndustrial,reddot,초지법,우종수,권세창,항통,산자위,이강하,xhibition,oving,useum,권용원,lley,남풍우,이수해,최영심,실린다는,배택휴,고용감소,선과장,분담액,sejong,최배근,양용호,uiz,ucky,hint,asy,그럽시다,전광수,손님상,김신남,ndroid,apan,aiwan,tudios,atrick,lectronic,출하장,가꿔야,손장원,쉬우면,절취선,cheongju,양수영,aker,전찬수,눈인사,김열수,arnival,orldwide,unctional,afety,서만석,문지수,icrosoft,motional,iversity,ean,mage,ype,requency,hips,특금법,alk,농특위,axi,되물으며,중립수,아암도,사라진데다,헤어드라이어,수목학,물표,hosen,eauty,폐가전,박태춘,미뤄온,강임준,태축,심의보,서두를,ife,끌어내린,파란불,오스코,김교영,허지은,inno,간호협회,장화진,orum,윤도흠,꽃송이버섯,백진성,최홍수,선제어,박종언,서동학,강성덕,활물질,aper,쓸어내렸,일반수,acing,reen,aroon,엘타워,gjtp,오영걸,월드트레이드센터,강영권,심재용,노창환,뭉미,루센티,홍석봉,박은신,살수장치,온습,곡회,김완준,정희치,아베마리,신현욱,박은순,류제성,애프터서비스,동의자,확정시,물미역,냉제,참가증,rocurement,riendly,educe,ecycle,홍은기,말똥게,배연재,노력도,유영균,송동훈,이희만,이승지,디네이,apital,ndrew,obert,ough,우성훈,황서종,공직관,돌아설지,김택동,이용두,전경태,오병석,오석태,이근태,버텀,nton,rban,reamer,ade,azz,ompetition,mber,전해준다,법정수,권순갑,마을리,돌려드릴,캐시리,박태철,캘리 ,목욕실,파세코,조길연,aunusanlage,lus,정환기,chool,김형훈,ustomer,임홍순,법정시,류기정,내원객,순감,전라북도체,배원복,박철훈,ilot,lant,resh,eady,irtual,aul,aboratory,고준호,깃대종,정명운,nnovator,greement,남기찬,단자함,이득주,이제중,오창원,오경미,설판,신현곤,최병재,선투,dotory,도맷값,hanh,차의환,광주만,배덕효,농외,박형구,검인증,처해도,강인석,가공사,신선철,틔울,혈실,지켜나갈,거셀,총재산,과내,ltra,손대기,투증,aejeon,olicy,전상직,황운하,중하순,나들이객,게이츠재단,쭈뼛쭈뼛,박춘근,갈매지,유세종,urger,otte,remium,eason,비비안웨스트우드,전형식,권석규,cwolf,시새,박연규,손세탁,조물조물,박계인,lyj,띵까띵까,커나갈,전세가,eed,atch,길영준,김칠봉,박헌진,배당주,손수정,맞손,우동식,rant,alerie,박만우,ummit,eam,eplay,엄광섭,kosis,이효건,김양혁,상하차,구급함,튼다는,아전인수,wetax,안갯속,이휘령,기대서,서창석,amily,오진택,arketer,박홍배,산수국,visitjeju,실속파,부과액,석면폐증,손영래,영농기,입고병,퇴경,흰민들레,enjamin,신종열,백운호,추욱,kwj,수요가,oise,ncapsulation,aped,조립도,모형도,백지호,eadership,gency,anager,ales,ourse,전수식,우천식,케이에스,노미숙,황일순,icro,odular,eactor,되살려야,거재생,최형원,김창권,점해야,발맞춘,rug,hemistry,anufacturing,이효섭,조은옥,물세탁,조남선,소비액,자구리,ardens,곽영지,임재진,므옹땜,저탄고,불리운다,로열층,gig,돈내기,layground,lsan,ducational,액침,김무신,윤무식,수용품,tartup,oad,물발,ite,anging,지사기,accalaureate,남준우,loyd,coolee,봉사료,ock,arty,ance,viation,aintenance,epair,tation,권용복,중급반,윤정길,식혀줄,이골프,홈패션,차렵이불,ohan,이수엽,inky,niversal,nly,송치용,제도기,정기명,김회재,우기종,김원이,박승기,박천우,코픽스,박홍재,nterest,구상엽,차열,붉은오름,둠벙,장성근,시각차,떄문,imes,박윤해,열어젖힐,안장헌,줄까봐,이호명,tumblbug,패키지여행,nsur,에스켐,프라우나,비효,oncept,incruit,atisfaction,연잎밥,letskorail,정한근,예세민,ound,ield,ontent,indows,리세션,jobaba,reams,hallenges,꼬부랑길,유광진,riend,원국희,당진포,강희돈,재술,agnetic,andom,emory,ontroller,lash,ayer,연석산,모아져야,lush,담액,goesan,윤우진,양동복,안전역,정민곤,안전광,안성우,ennifer,안재용,박석영,어로수역,남봉현,ocial,overnance,검역관,김용회,특허품,노측,최상천,ids,xperience,출령,uperior,ssessment,노창호,가을배추,가을무,안테나숍,천녹색,echnical,illes,arly,ird,민경집,rica,ateway,터덕,녹여내,전중규,송종민,김대헌,독채,과수나무,결실량,남광희,문현종,감사자,불볕더위,내친김,홍정운,직거래장,ellotte,김강립,elight,conomic,pdate,밀식,장마기,도장지,뵀,살펴봐,심원환,ndex,설윤,조규호,함영진,뿌리내릴,조정위,혓다,hjh,sungig,ilter,제출안,ncubator,김회정,irection,imon,hunder,개꼴,조의문,곽병주,스팀다리미,고견,양윤석,발아기,더뎅이,nmanned,ehicles,채현석,유희실,남택용,디플레이터,전민영,박피기,토란대,정착금,이엔에스,기대선,매만지,쫀쫀한,충관,신항철,표몰,고금란,풍망,전병화,attery,오재학,컨틴전시,ollege,ardiology,빌려쓸,꾸며질,생발,추광호,김학노,erif,주민지,ging,난망,박제윤,울숲,돼야만,담겨야,냉동육,조선혜,레시먼,heck,이삼용,장선배,남겨줄,하계휴가,펼쳐질지,배조웅,바닷모래,전북애향운동본부,설동섭,부쳐질,강선일,athematics,취사도구,김인재,인정제,정병인,름국제트레킹위원회,농업군,문정진,그친다는,조천희,travelweek,visitkorea,ibrary,조사비,ohemian,avorite,rtist,더딜,한상문,유진철,김장선,기동반,용선료,배뇨통,asel,노도영,문길주,염한웅,윤명규,이환규,황국균,serine,임상빈,이뤄졌으면,표지훈,장령산,정희련,다논,박상숙,광양환경운동연합,리노공업,전데,박중겸,ttw,천문조,인상액,고상진,홍성문,oes,tem,ells,nfluence,요오드화은,등편,폐사율,양창범,rigin,ays,hain,hing,uperhuman,egular,herry,omb,계획범죄,ector,eport,박두용,goodedu,chungju,igi,ticketlink,약복,epeople,공병영,lhj,도입선,상춘객,어로법,장망,들망,배미경,외식비,ommunities,ractice,조호일,보안등,가람고,지중선,이창목,김관표,폴리페닐,소람,정상압,석경호,안병선,만들기,이형렬,김종술,찾아올지,오석송,ranch,ipsi,uc,일분일초,edal,onor,원정호,브랜드전략,ral,hicken,oup,ecky,움츠러든,보스턴백,제자리걸음,iving,게첩,성태윤,김동녕,이권영,착근,내장객,한국상,차우식,빡센,uantum,lagship,umber,enerator,abric,eader,박맹수,olleges,권오용,원도연,서한문,sarangbang,발주량,최훈학,정재숙,꽃잔디,주마당,틈틈히,션단,김재득,aming,isorder,권주혁,어린나무,경제림,평균액,aving,통세,ditor,hoice,뒤따른다는,ative,nternationale,erlin,동사장,기증물,틈날,정영덕,olly,reath,hhj,최윤종,탯과,송대현,이용표,lny,hemical,입개,종무식,이용협,최재기,김광묵,호가가,nstitutional,송희섭,조갑영,순삭,losed,이엘라,rick,임용택,jbbank,hink,손보사,쟁심,eyond,김완순,김종각,체납세,불확실성,timulation,sslee,보증료,이원신,김주오,ktoberfest,건강체,한창섭,그슬린,oundation,이뤄질지,ikko,장희선,최도석,트렌드모니터,전문연,복구장,오형수,성주영,질라라비,강영돈,최성열,삐거덕거리,김승동,이덕영,안국중,ouble,목통,아그리스,gris,itraniaga,백광제,살린다면,겼었다,받아든,istro,reative,oday,nthony,aigon,onvention,장근섭,리센룽,ulsan,korcham,망백,순세,황토배기,eautiful,omentum,rctic,디젠,정금용,pension,당겨질,마케팅비,rganic,수강자,박문덕,pyoya,진승호,정병웅,류한호,도회장,꽃값,염도계,설준석,헛구역,세척소,강예진,국악가요,iksan,강문정,ide,tudio,esources,oldings,alker,hanghai,heng,박권수,훼리는,짜일,박유신,iger,hark,윤열현,청월,onstruction,업게,방청권,가입식,티비온,덩달아,드림북,이연성,이용빈,그칠지,박흥석,서준혁,격등,담상,rystal,iller,되새겨볼,이보원,성기석,obility,실액,ijto,정옥희,차도살인,ild,igher,조남천,표극창,삼가해,roject,전응식,배춧값,가을장마,kamis,baroinfo,daptive,ruise,헤드업,ixed,eality,김훈배,onda,맞댔,윤경림,lectrification,onnectivity,utonomous,riving,세까지,후두경,봐야겠지만,범택,앞도,김영보,임행,송인회,박호현,이훈기,달아오를,저축액,오를지,실뱀장어,앞둬,신혁재,서유열,ubai,eart,ealthcare,신섭,차정호,급수난,착공법,ppliance,olutions,노성태,커렛,기념엽서,해지율,wavve,닐산,youtu,한영섭,이경채,최봉기,최대근,chungbuk,안희철,예대율,우남철,fizer,oneywell,oalition,esolution,ederal,egister,harmteco,alik,incheon,롤콜,oll,일각선,최광철,청담러닝,융사,낙차공,소불고기,물벼,미납자,키워줄,불러모을,다이어트식,산락,upermarket,armers,계농,erminal,에스오피,고유환,화성소,역결,teel,gyeryong,아이안,윤미혜,김태극,ayment,ompany,누락자,illiam,enry,iselle,arge,차렵,ead,김부각,paju,유병율,홍인성,ollaboration,석탄재,정승윤,서정걸,안대진,민은경,벌점제,과구,김수언,uilt,perate,artnership,정원화,elivery,harge,lanning,황진우,전용환,신고법,박완희,윤점용,guyen,ietnam,ubber,허용학,김희송,정문국,earn,eather,허권,텃논,찰벼,권숙월,utomation,raunhofer,여환섭,존문,변평섭,김선두,예취기,이상완,파인건설,민지홍,경급,대양금속,박제호,크로모겐,엄대식,aboratories,손두부,서창호,oard,ember,ajor,dory,황천모,김연순,earning,ntonio,ouza,승달,김덕제,한태근,airbusan,달료,최영무,entral,istrict,아노락,정경섭,갑천대교,factk,안일한,sunchang,김계조,윤원영,jeonju,질근,ospital,recruiter,차롱,이수증,송영희,팥고추장,좌불안석,최현창,페질,eck,이용록,이금재,객리,내놔야,집살이,곤두세울,limate,방수재,김조원,악색,송기영,hailand,nternet,rovider,orest,김희봉,인삼포,namgu,gwangju,농금,안건준,매핵기,김민배,돈교,디엠지,hoot,ealousy,lligator,orning,바깥나들이,만시지탄,속상할,피피비,양현미,황윤철,꼽혀온,김학량,고재연,존디,어린벌레,법방,eft,황진구,에스떼,황범석,롱비치항,bts,ersona,나랏빚,공실률,anda,아웃포커스,오승진,담창구,가치주,정용현,박병홍,김청룡,양명길,석문호,evel,aegu,켑카를,uto,ohnny,ziz,전주상,호르무즈해협,프렌치토스트,냉감,leece,성용준,류영재,정영린,미뤄서,조경기능사,reator,왕바람,싹쓸바람,ross,imber,배윤환,recruit,온주현,라미르,엄재웅,마른장마,youthcenter,고칠진,지속가능성,터야,의사봉,이우창,남성희,프로판가스,oice,윤복자,지준율,바른길,주금공,개점휴업,동서학,위생모,레이존,예뻐진,송정택,nstitution,문병원,강성후,전동호,구매욕,새물,xtension,김충래,주영욱,까다로워졌,메달밭,김은별,ustainable,oals,납품가,ndonesia,eeting,ncentives,침사지,블루토,갯녹음,강석환,조종래,최진환,재배기,민준영,김상웅,남영희,eet,aris,선납금,신규원,usan,식곤증,tacking,ntensive,정주교,양승욱,임서정,박구선,김이탁,아츠노리,전기보일러,남창규,임동순,itter,임순혁,유정규,커피세트,내구성,끼칠까,달린다면,alsey,ntro,ikrokosmos,hape,amais,ionysus,공시가,현재상,폐철,받침목,채원영,chae,etail,ackage,명노현,조경엽,tudy,nitrosamine,ketone,이강오,크로마키,강동궁,suji,그러니,양태종,orks,eview,김원찬,oming,저흔,성동규,공무원증,여액,볼쇼이카멘,funfun,금강수원,시급성,밤고구마,dhkim,넓힌다는,최두성,dschoi,정한길,휴처,배양수,olors,유범상,막여과,다운재킷,트레이닝팬츠,ractical,ompetency,장영승,수영모,결식노인,누그러들,testbed,rogramming,nterface,최창희,이민현,안병석,이종설,ndmi,oogle,uer,제백석,유영태,정철교,정초시,이민원,빚잔치,살아간다고,aint,aurent,참두릅,이생진,윤현우,조남건,실버산업,봄옷,신유호,조규동,정환국,김필식,강경순,영감놀이,ephora,kepco,안건희,ighter,앞장선다고,짓눌렀,장재옥,윤원태,체어리프트,건승,조동성,곽대경,강신업,밀착력,이진오,전수인,ega,토리버치,나정선,권갑하,남철순,신구철,울트라건설,정창선,총세,김혜양,인병택,생사기로,예병태,잖아도,손사래,서희건,양길모,감감무소식,이어질까,mapo,inancial,열경련,gro,이기인,무연분묘,담배나방,무름병,서석원,식혔,권상대,conomics,흑삼,점도표,ause,산후풍,김신형,담적,연자육,tyle,황토호,raph,nion,관절강,ntelligence,김봉섭,물사마귀,박우주,조보현,슬도,박원균,전환가,강근택,전달수,생존왕,정만교,hildren,충북신용보증재단,nhis,절박유산,유봉옥,시었,정해봉,탁용석,omputing,emmunity,신승국,emiconductor,윤세리,arming,농외소득,정승오,정해관,권병윤,대기표,관금붕,공매처분,김용각,광거,인주연,겨울빛,elly,ichael,arley,ail,olar,ube,orthern,ussell,ffice,권경민,식단표,inder,좀도리,꿰맞추,하수급,백이현,송자인,남길지,버두고,정용관,최웅철,정창주,tars,김철신,목반,선별기,안성완,asw,이엠씨,지났을까,맞통,이순학,길트기,주운항,신천개발,상향등,이면재,표발,lastic,전은경,도열병,peed,hristian,ello,unko,ndre,곽민,주은기,연규황,ramatic,unk,ugene,구겨져,강요식,꺼려왔,기입란,좌고우면,교수협,윤여철,azem,가삼현,emember,최남규,이배현,pyc,박유동,odel,송홍선,오액,agri,분양가,진소연,가구주,가톨릭대병원,정숙남,eural,effrey,esthetic,ichard,폐농,공한지,안기완,목포신항만,손홍주,전광현,이에스브이,됐다고,벤터스,인사위,혼행,오상고,김종효,김정성,힘줘,정상외교,김칠준,서판길,윤효식,테트라포드,송호철,구태언,야브로우,정상환,강시원,solive,손우준,녹물,마틴스미스,스다오,innopolis,정광일,축소도,우범기,nakri,기울인다면,진옥동,irect,오메기,돈천,장영보,최기우,올망졸망,epository,살랑이,배운다고,ertified,박초희,업스타일,황정옥,심병섭,torage,부탁드리,주정민,지역제,개권,위킹,olf,olymers,누액,황원철,적재율,신현옥,토닥이,물어도,불볕,서해종합건설,쁘라셋,강혜지,쭈타누깐,rena,udolf,udi,oller,이강명,exportcenter,uropean,오성목,안아름,신언식,알림장,콩닥거리,비상약,elt,솔리드스테이트,uarantee,nteractive,entures,ery,mportant,챙긴다는,손문국,식수난,혈유,nalytics,박진훈,보중익기탕,황성우,ntegrated,ndustries,ioleta,ighlight,eally,irplane,유태열,박준훈,성명기,년하,쌍무덤,대롱옥,후코이단,미역귀,haft,earing,윤덕우,정병찬,지영조,수십조,brcn,sjlee,구인모,최영락,추정환,금계국,roduct,홍주영,선보여야,윤석암,양문수,방역망,허성중,김여송,김일봉,kjbank,들썩일,김성보,독서법,rends,nnovations,뭉칫돈,려거나,율방,지동섭,양동수,iotechnology,eature,koreatech,피복비,정형일,ggac,유준환,윤종진,imple,안동일,이글벳,사랑봉,어촌리,임계호,간질였,저임금,홍종수,허종규,seereal,출장지,nity,황각규,lch,잰걸음,맏언니,울산무,김자반,환거,nsight,alon,인가제,면풍,최평규,eek,유류물,atic,송지희,종패,손희준,rder,권실,eaving,후생비,해줄지,밀어붙이기,정희창,wangju,역영,빚내,탈석유,왕암동,명명백백히,끈적임,안혜선,에이치라인,하역부,전일호,옥경석,김광표,강미숙,면결,최양하,술업,너나들이,ellness,onvergence,opping,hird,살뜰히,도배장판,avilion,egion,randing,다과상,acking,arathon,김병균,장복만,권홍사,zbaro,늘어놨,광음극,김행수,가꿔온,추창,쭈굴,물아일체,체할,유종우,스톡카,박돈서,한경주,이뤄나갈,류장수,arking,원인자부담금,버력,안겨줄지,떨궜,조여야,주우며,경사판,박성경,김근형,오영철,손주석,김숙은,은섬,achine,담보인,활협,hef,저진동,호전과,국지화,ircuit,이효율,자리다툼,새겨들어야,이엠에스,두드려야,eering,오름폭,임금옥,dver,보묵,rowth,산화프로필렌,도매인,앤라이트,소각재,풋거름,최기주,물놀이객,새겨듣,미달성,배병철,ntel,서보신,yper,성형탄,난방열,김장문,박신환,드러난다면,내려줘야,자리보전,lassic,쉬완,orp,정병묵,lpha,lefin,신증설,절레절레,잔망,정덕영,입금액,dentification,신전략,한기평,서장은,양광순,이장연,비차익,염일,nterview,집단심,신망애,추납,김학종,권용수,총이익률,조성재,고말,점쳐진다,조덕선,노규성,삼태산,꿀수박,쌀가마,airkorea,페데로위츠,양영진,연목구어,perator,레즐러,eave,성상헌,득달,물어봐도,증열,치렀으면,폐목,hil,성주호,이달초,onnected,etection,한객,박도문,박현종,lternative,정소이,쉰다리,역랑,haping,lectric,dward,rivedi,윤국진,양경수,통매,캠필로,직무급,금시초문,남짓이,볼멘,도정역,민병수,양무웅,양원기,yesan,kcmf,comc,시큐디,따져물,김희삼,넥솔,빅사,romotion,전승호,김중열,esort,이충기,cbfc,여승주,권희백,울산만,스러져간,필링크,이니텍,nformation,nvironmental,esilience,aniel,aez,이남숙,inerals,ltimate,김갑성,손석주,송성호,목희수,유연철,양혜순,빌려준다,양근서,심재정,연체금,찬실,행정비,위한다면,heatre,ravity,최선목,arcia,파세르,aser,전봉걸,임인규,장병욱,estaurant,손남목,자수자,홍봉성,윤영덕,잇따를,박시종,이남재,전골냄비,임원수,조영탁,나선다면,문경원,신승진,봄직,티오산,측량수,입배,거칠어지,희소금속,그랬던,뷸러가,cbgms,yeoju,egbiz,전제완,nitial,xchange,ffering,ncome,라주어,소독수,됐으면,문채련,herpa,전인지,최혜용,igh,구랍,소협,셀프케어,김용집,길재욱,정운수,권회상,sidus,iemens,꾸려갈,김우승,헛바퀴,kbh,ottom,정호석,홈서비스,월동장,권준영,막스마라,브루넬로,망업,휴어기,goyang,정근상,순회교사,idelity,nhanced,eserve,한옥형,김기민,bizinfo,용도구역,켑카가,베스페이지,둥근마,신현도,노수빈,urrent,myhome,터줘야,조동용,obacco,irective,건필,한재현,미어진다,eading,rightics,풀제,정현영,대형가,뒷걸음쳤,김옥년,entury,문창용,함기선,김복덕,변창흠,lanner,됏다,구화장,넓혀줄,칼봉산,신면주,standstill,성문재,각자도생,드라이플라워,박노설,장인철,제수문,upply,치리노스,김찬배,촌각,itrix,plunk,reate,취소수,말간,스러워할,강성복,ounted,econd,ffshore,arine,olling,tock,ilitary,ining,소고무,최현국,harmaceutical,harma,iligence,herapeutics,시트커버,잔뇨,검사선,hanyunjo,박춘배,심상수,equest,담보력,이회승,illboard,edia,유동찬,장고래,숨겨야만,김일평,금돈,정연인,유종준,임채철,심민자,박한우,안상근,신동연,황금물결,김동복,oldable,윤갑근,인물난,urable,ynamic,irectional,imensional,선민정,riple,양금희,이문종,거둬들일,대부료,행정재산,최준욱,유석종,총소유비용,뇸뇸뇸,quaponics,quaculture,ydroponics,사이드스텝,예약금,ations,hanger,ovement,aste,latinum,ilver,농번,건의자,해이니,노정환,빚어졌으며,하도급자,차길영,mss,jeonbuk,배성훈,bsh,atuk,hmad,매그나칩,토닥여,tended,uddy,올리타,rtists,에프에이,배기호,이미원,걸러질,흘려온,시례동,ifestyle,일궈왔,문승일,강현재,서병문,hilippe,정창권,돌아봄,박화진,ackend,ybrid,ngineer,임명호,전명수,밀어붙인다,폰뱅킹,도상환,레피니,erb,자비히,줄여온,작촌,똘똘한,끌수록,신규철,세몰이,quipment,oosan,irder,ier,oncrete,ucker,aron,lient,rinciple,esigner,ulia,ooperative,ntelligent,ransport,ystems,inematic,eference,절박감,onvenience,암호수,구연상,rimary,troke,바빠진,황수남,박희용,성홍제,이왕희,딩크족,국정조사권,jinee,온비드,efresh,배재영,절충점,하태욱,프로필렌글리콜,콜레우스,배재웅,투광기,월형,제갈창,그만이,비보도,조규석,출무,항셍지수,김회천,앙증,테트라클로로에틸렌,에틸벤젠,첩약,urchase,속반,물가지수,빠져나간다,olden,hild,기억관,baro,박연재,잡채기,정창조,anker,ransaction,anking,조학수,양미진,템부롱,무아라,교보재,신명식,오희숙,민경숙,하상용,이국노,intech,박무현,igid,허은녕,eju,서정용,침방울,김성섭,개방형,김두호,권유가,orever,경사재,이병극,담뱃재,송영록,구조개,쇠무릎,강영연,청려장,숯불고기,ortal,nsurance,brix,노희찬,leet,안현기,ienna,altz,rchestra,격회,etters,hank,골살이,이시복,윤영애,원성수,홍남석,소가드,김선창,cientific,eports,코먼스,복법,털어놔,uzz,가로등주,빚어낼,김중균,실권주,김관구,송현경,성백주,유창근,파란불이,결견,ision,상호금융,고병헌,laze,ockpit,rey,xit,ssist,unction,ireless,roadband,윤창운,벤앤제리,청키,정삼수,abitat,umanity,허영선,박순규,대기전력,arrier,정혜자,eturn,민병규,안선주,uterres,avier,offee,잇바디돌김,옭아맸,황탄,uck,eef,오성엽,새간,연구창,itchen,everage,박구용,realtyprice,과표,상액,otal,nvestment,최희윤,하농,ote,ucac,이현용,강덕현,배문숙,간이세율,가려낸다는,멀끔,walla,노광기,서배원,탯리서치에,단풍잎돼지풀,akai,확장세,이뤄지긴,횰로,가팔랐,내협,튈까,erovskite,여성구,김명술,최규복,불구경,헛구호,srael,onation,유상진,강성부,재수출,쏘일,isorders,앵클부츠,물값,검진기,nibr,서흥원,원텍,박찬복,원격화,재해자,최연미,류승진,차려져,강호선,오기형,hift,함인석,신현기,rchive,idden,김봉오,허미정,들어선다면,관전평,kosaf,이관묵,펼쳐준,미황,표완수,홍석영,규간,초격,험객,onference,raphene,ovel,resentation,aterials,erendipity,강삼석,전기요,헤징,appiness,uild,oster,eries,longtermcare,움버스,하루치,운봉고원,명절맞이,코람코,오용수,퍼스텍,신종우,약일,kosmes,환해졌,심경우,ontents,ebastien,전호환,오혁진,orkplaces,민경태,군사망,안기정,순회로,reedom,김태익,손병석,메탄산,임관혁,비용량,허민회,폭락세,cosmetics,감광액,역결과,절박성,omance,핀크스,윤희웅,위탁금,llegal,nreported,nregulated,ecovery,경유의,유동층,iusm,김태명,반짝였,강현국,아모제,칭얼대,직접비,wn,가꿨,울렁거리,eset,ebuild,밝힌지,박상화,방진호,새판,고순동,reak,그늘숲,폐기량,교환액,kras,ortex,박진회,이범욱,ortfolio,trategy,heory,류근중,최익수,olid,ircuits,tudent,홍성모,김선필,묻자,ission,안승철,전장용,산림대,응역,삼각봉,최주식,원매자,wizzap,인터엠,어우려져,한시름,서승아,ings,ycle,rouble,업안,으셨으면,류혜정,한선재,정강수,하승철,최양환,두동지,etax,daegu,남천규,들여다봐야,이송호,안내대,peaker,udio,mohw,ourself,조붕구,제로베이스,세종공업,김인회,정균영,노령화지수,협의제,정순관,임정택,유동룡,ontribution,ampaign,iet,rchitectural,장운영,nnovative,중형기,ign,auv,unaway,전우헌,입상품,esh,ottle,희망차,박장화,ncentive,즐겼으면,노진서,nvestments,quity,양상윤,풀려야,김효철,박양규,권명숙,마주쳐도,우리넷,충족률,왜요,치르치크,ndergraduate,알뜰히,손철웅,idnight,iscovery,ancer,겐티아나,할인권,보인데,이달로,etflix,조성지,이동륜,온찜질,두레풍장,장군제,일새,ustainability,onnect,ertificate,틔워줄,놔둬서,sukmin,배복,울산시민연대,nswer,황화몰리브덴,높여온,접수창구,즉석조리,권준수,사내하청지회,ift,ransactions,대야산,검마산,여현호,바쁨,정겨움,총집회,영구화,김영언,신아름,흔구,높여줘,포용성,akers,가르시니,부원료,정성봉,소프트닉스,ecure,밝혀온,한균희,iquid,okdo,수북이,끊여,안상희,audi,ramco,ohammed,oltage,ualification,bpcf,미가동,김기명,수로관,otorsport,olkswagen,강춘자,뽈레,너자,개미반날개,창문틀,legance,안석준,품대,김이형,박선국,이만형,eiden,tching,최주선,담세,입현,eamforming,obi,이오티,박종해,만날지,플러스마이너스,hcf,한완수,찰한,송환자,아스라,ouch,easons,망국병,이서길,거리가,우승배,고무풍선,한덕현,nne,걷어붙인,atter,예방전,양무진,rama,주아민,혼합유,수비크,김강열,빈상,uite,비육우,밀린다는,otors,ense,evin,수주팔봉,감자떡,전출자,ualcomm,용단지,박효덕,lyway,냉방병,무더워,nclusion,적굴,erm,ractor,최수천,봄나들이,지정곡,오흥주,uro,toxx,우무현,성동훈,동조성,전해수,차등화,까다로워진다,쵤영,윤성옥,최상대,백트,안락감,eitung,정치검찰,okyo,gunpoart,팰릿,oneclick,조승만,출책,도육,이보성,억중,전은우,홍삼차,생촌,네크라인,문명국가,소식란,염용표,고홍석,박양준,자동차대,ewark,shley,mcst,정상균,김태업,윤종언,urning,이러다,사방치기,abel,내다본다,종량세,ehicle,nfotainment,ssistance,도형석,이한복,유현명,권태응,윤제림,문병인,ingle,택발,책임진다는,종사상,참가율,차규탁,겨눴,ocal,오분자기,한종인,김건하,전홍철,hjkim,최완현,갈라치기,econdary,류희만,임승순,전남식,그마나,정찬수,성산포항,알랙스,lgae,hycology,김창윤,irl,antasia,avigation,gile,구자헌,송삼홍,지방상,착화탄,uah,irama,arya,ecom,정석찬,고명주,노파심,애써왔,서창수,arianne,가자미회,홍콩항,지급식,llure,지지난해,주택비,폴리페서,채정룡,문택규,권희철,류병관,최희남,전병조,이덕훈,어려운게,타제품,강평회,권용일,서재헌,달그락,설친다,호떡집,문범수,iploma,rogramme,성기홍,윤나리,젠다야,휘둥그레,윤영우,명명백백,orm,오재선,독립세,신봉수,ack,upport,lants,도수관,황봉주,이수섭,시공품,안충환,오창환,전환율,누렸으면,황종성,져야지,댑싸리,꽃물결,오규식,화장료,한지성,공모채,얼라인먼트,바람몰이,estination,arketing,강남일,부산만,친데,utstanding,ebriefing,떄문이다,enny,가톨릭의료원,한진만,항고장,일반미,haring,arl,erbert,머쓱,이풀,김해련,초행길,튀어나올지,잇돌,천영석,주원석,ialogue,개인영업,청량미,ncology,gcgf,이규문,른들,거복,bdullah,sbiz,이명미,홍철기,ulsannamgu,태차,ellow,oast,erra,뒤진다는,iberty,박완기,인료,홍기운,이강근,홍두영,ele,onitoring,무관심,따로국밥,엘케이,강진기,oundary,hermal,acuum,hamber,면토,unar,orking,rof,ernard,oing,ailing,awn,집성재,김만조,건강도,esponse,향객,오재훈,시아유,bankni,변성완,폐감,이동배,구만섭,배당락,mois,사죄드리,보존림,이뤄지더라도,중명사,열일,취포,복주머니란,페게로,페게로와,페게로는,상기도,이완훈,산휴,윤성혁,출항료,이봉기,lympic,ommittee,김운규,onoffmix,anmar,국제종합기계,운수업자,이수제,세알,통갈,섐보,lectro,harger,유지윤,김형길,cheonan,yeyak,김승룡,오택진,이홍길,예산서,할그렌,임영문,조수용,매서웠,너절,nother,서장우,최금식,육근열,식품의약국,호출료,최형천,허강숙,긍적적,perational,udit,dition,perations,xcellent,재오개,tia,박정제,소매인,늘린다면,갈빗살,hierry,kosti,ynamics,nesdc,맹훈,ress,긍부,강병석,박병칠,둣집,김숙진,mployers,utomated,배용주,trike,세탁력,팀파니스트,금추,ntropy,연계증,estern,reventive,한숨지,심은석,장미정,alifornia,rancisco,isease,여민동락,미뤄뒀,임승안,찌뿌리,edding,irm,laire,erry,lossom,ensory,권상현,iano,sland,hapsody,늦서리,eneral,cosystem,구제제,유종인,거둘지,한재원,조봉환,비과세,oncerto,iolin,방윤혁,밀도감,ncheon,irport,ntact,oarding,unior,mbassador,허재완,지용호,급화,양혜란,우국충절,나눠질,엄치성,이장건,김경두,얽히고설켜,맞벽,lear,veryone,tand,고석태,숨가쁘,이권재,이봉철,신태균,폭등세,센다는,설포닐,riority,xpress,heer,olic,dvertising,hoto,uminescent,tandards,박수선,덮일,orkshop,mprovement,otion,erformance,정세민,cientist,ittle,hah,looming,독창성,eaders,pportunities,ssembly,유남영,검사료,ggcf,일상화,복석,전할까,일원화,고진태,atisfactory,arning,xcellence,cology,이칠우,정인채,그늘집,무인점포,대장지,되새겨야,복돼지,임광빈,페추얼,태워진,arkit,안산도시개발,hapter,고성환,죽여버린다,됐을까,길을,로테르담항,aas,최일용,동양물산기업,강태용,정미용,인몰,폭스테리어,키워도,홍순헌,태평화,강도다리,지동현,엄재식,사이클로스포린,홍종윤,박인복,lockchain,오세일,공공연대,식조,근속급,올라선다는,달성도,유용상,권덕철,전재우,강창현,울렁거림,홍석원,edical,eize,오병준,육성지,홍양희,전문수,잗컬렉션,ecision,젖힐,izbox,opyrights,신맞이,탑돌이,asic,tandard,rans,areh,inanyan,생률,신선균,부대조건,남태영,슈어스,이뤄져왔,지쳐갔,송수경,이수범,심원태,나의갑,보건비,담호,kycity,팥잎,치를지,유명화,챙겨왔,omplex,손은경,윤현철,송인택,김보상,비즈니스호텔,이태웅,에이치비,규고,icolas,화상병,dg,정강환,nimal,김한룡,ged,주마가편,casiopea,윤길영,신척,xclusive,ourmet,pecial,소금정,강물길,생과일주스,특화점,업간,백승완,박근용,역예,버거울,eveloper,김혁철,wnership,rial,불납,결손액,한석정,끄집어냈,문광위,동명항,jobkorea,황상연,엄도현,아나나스,백현식,여유증,eetings,onventions,xhibitions,조억,정창무,이희균,설장구,이덕연,업차,언감생심,급안,hase,반상진,마고소양,무사무려,성영철,einforcement,ifelong,유창동,cene,금강공업,gni,최숙희,통신회의,오인섭,홑벌,이선관,이학노,동산고와,들썩였,백승권,알려드린다,견만,검토위,이제윤,항공소음,할부이,부약정,혁심,윤신일,널뛰기,ario,hristine,ngela,hiller,바이오나,김제덕,nniversary,reatment,경각산,합친다면,배윤식,서산비행장,이완신,레몬차,영업장소,목소릴,라면은,이충직,기울인다고,양동신,장영선,신액,톡톡이,모셔올,임한다면,전준모,뷸러는,종자대,그라우어,박월훈,앞당겨야,낮춰도,lbum,양조훈,ellular,verything,감대,시비량,토양분석,고세연,전국서,연데,박삼옥,이어질수록,내빙,파드되,sjcf,헤쳐모여,지대론,황창배,윤광조,굴취,불향,양대동,앤리스,밝혀다,풋굿,ravel,eath,화물창,최태옥,극면,잎집무늬마름병,왕철,개심리,입주금,김항섭,kocca,dangjin,문증,서교일,윤정문,급매물,박승석,보말,싱개,강성균,김형연,조희찬,불테리어,andex,자금액,aily,중간보,검침원,가스사,은반지,이남일,박남신,반가워했,장낙원,제풀에,손명호,eddot,방윤석,명산업,형격,삼천당,나희승,조상수,펍지는,etal,고용호,임상필,이원묵,백스톱,식품군,한준섭,녹색길,오도창,산기협,박승미,rize,강권순,ounge,homas,뿌린다는,메깃과,wha,정진택,노외주차장,박한일,돌려세운,챙겨온,초극세,넥라인,보온력,iit,ipe,바랄게요,이은옥,최재목,이성낙,원언,기업경기조사,urvey,bcl,박세필,alance,네스프레소,ntoine,ulse,erner,emp,계획량,허만영,hoi,pplied,nterfaces,이형열,임수택,외작,oyage,afe,엄정애,손영우,목말랐,무공해차,영락리,백희정,김후식,owards,utomatic,nalysis,xtended,관말,볼풀,성습,임상호,이한배,가한다고,현성철,원기찬,ntegration,extile,iber,nternship,하용환,유통비,강성봉,혼류,작은빨간집모기,김천주,즉석카메라,illion,뒀으면,여지노,최기현,이동언,어장비,꼼꼼이,etatron,zure,최흥기,입철,궁협,막한,정숙향,cott,mazon,ssistant,배학연,노홍인,enesis,경품권,메벼,소독법,수화제,가닿,hronic,맙테라,경북지노위,recession,이머징마켓,내몰릴,ecord,임종근,안마도,칠게,ssurance,국영석,areer,ransition,강보합,rederic,rance,이희대,hdlee,주행복,나눔자,정정미,전영배,김근화,박상섭,선승연,강창욱,감력,elieve,류승용,육제품,강달호,도시림,쓸어내린,앞세울,수험생,감보율,최성겸,통계기,도박자,이용달,unday,디밍,최효주,alais,chungnam,ripc,ucci,ooperation,구승모,커핑,전여농,공염불,쫀드기,급난,퍼준,강원보,배부를,ciss,미배정,체납금,moke,ndependent,seagull,챙겨볼,istribution,ingroup,hira,미적대,총운,nvestors,egistered,ingapore,이길웅,신명희,송두,알려온,eamless,정종학,펑셔널,불거질지,신경심리검사,기체조,plusmn,ersonal,racking,ekkang,유송화,수복청,울먹거리,김의승,우주호,cnac,신창균,이로마,김남구,cchee,rchives,강원철,황종석,박태학,rime,nvestigation,신응석,김장근,김선제,atching,일내,지급전,윤한섭,간질거리,변성준,달라져도,링크제,강승수,안재학,revention,호흡공,황유성,전장화,임택진,trahan,무상원,내려놔야,이국형,위양성,nip,주상돈,살찐다,된다지만,여경협,동났,삼학도,공성호,ugu,매김할,uinness,ecords,ulletproof,강이헌,이글거리,ncas,jfac,장상규,감꽃,orts,raq,ulk,장연옥,kodit,박찬용,문찬종,력수,분금,공동물,고경실,부상일,강경필,되살린다는,최수재,sktelecom,권혁은,apping,백종윤,유가상승,전규연,유동운,이뤄짐으로써,이안식,밝혀옴,윤준병,기동호,배기통,척과,모녀간,산상봉,제는,리걸클리닉,오용길,급행료,송석언,완강기,홍민식,황보택근,김윤세,한영돈,강일모,끼워졌,뒷구멍,정성남,anic,mith,요리실,ceans,전당권,게딱지,onathan,pik,sleepless,띄워진,신우정,웃자란,법제화,디캠프,osta,iodiversity,문성유,위정현,김복형,정현기,이창봉,김재무,박정국,지정식,류광희,ental,어황,safetykorea,구길본,무단이,선도지,궈타이밍,umar,가속화,도시공원,사들여야,우창희,그렁그렁,대전환기,osmos,진우도,축알,금창호,강습반,베이비핑크,이명증,세족식,olorful,대모잠자리,천연석,윤경석,권중원,iphak,kunsan,uwayapply,jinhakapply,나형은,올곧이,박용완,미등록자,유명근,장승진,용수량,한성환,크르카,눙크,정광선,지상관,시켜선,권창범,이용보,정익수,독균,앞세운다,mikypark,cjcf,강기연,mmersive,엔엔,김영설,강정석,윤규선,서민교,말쥐치,김금란,최정균,하태진,cjculture,안지수,위축감,불리울,정철동,무소양,흥바람,ifferent,ntegrity,alaysia,이향수,신형관,mlx,ango,윤성묵,텀벙,고병일,reativity,aring,노윤선,강진모,네그론,삼자대면,석가산,uxury,utomotive,ury,inalist,magination,이연모,배작,교례회,김연환,조영필,알머슨,마유주,생김치,서덕준,정윤교,유자격,지철호,pms,이치선,하우성,ribe,이국영,신순호,내비칠,naqs,무대책,수돗가,jbct,지켜봐온,ansan,문현일,uilders,itching,ullivan,기념상품,냉장창고,ndy,사전동의,홍순구,이언상,출수기,간사지,akeda,astle,임경환,조하랑,원미나,내놨으나,장준기,지현영,로앤,hared,rontier,소형모듈원전,나기용,opkins,telier,정나리,유정임,완서,최현희,내담,산마늘,신형섭,견뢰도,보푸라기,전세종,골든아워,자월도,고춧잎,고카트,꿈틀꿈틀,김아향,일등품,윤정미,휴폐,이규생,양승희,이경림,정운진,김효상,올려달라,케피코,지와이,iley,대류운,징역수,박윤규,신종원,최이호,알코올성,쭈타누깐은,조졌,이응세,dison,oya,idal,arris,hief,omposite,entiment,한석희,박무순,투닥투닥,slowly,살수록,배혁,석탄가루,드높인다,골라냈,재생지,권혁홍,트레이닝캠프,임승범,ensuous,portiness,이태오,간질이,독촉장,층층둥굴레,나눠줘,갸웃하,대규모,iansan,연필꽂이,양용은,맞출지,폴리염화비닐리덴,olymer,홍성돈,총중,류영철,움츠러드,장혁린,amer,ositive,rda,이종광,고봉찬,박완용,끈질겼,ermatology,이상종,onachain,orda,전염원,오우택,이홍배,금명간,망목,외줄낚시,불볼락,차국헌,장기연,이정삼,벼멸구,대농가,살리실,지현주,강희봉,rading,hinhan,배워갔,기접,hiocciola,고창은,포지오,송선태,께나,끄덕일,비거니즘,안성모,극한투쟁,정철모,윤병준,종단지,tability,뻐근,변축,임준택,ebsi,최동림,응추,아리사발라가,차동형,여인호,삭단,박건수,김수갑,최광신,참방,cademic,아이엠시,유맥,류광열,김한창,박근표,백재욱,김순빈,신홍섭,단배식,조병선,건오징어,상시화,광열비,김상표,드릴까,ircle,유성만,김철경,riginal,멸균기,램시,이우연,이길한,장재연,몰린다는,서주선,uest,rotection,안덕근,장병하,ctive,감익,약비,최운백,가꾼다는,손실률,작주,묵회,안전기사,논배미,최관호,바이오트,속건성,uide,오창섭,이계삼,금속분,구내방송,쭈가,cbtp,황용식,강종렬,안종택,황선조,바비브라운,살펴줄,진성철,비춰서,전업농가,전립선증,점적,학구제,esting,김법정,염흥열,iga,swkim,설장고,비숙련공,ymposium,엽채류,민순기,기원장,지열정,uis,닭똥집,hien,ruen,유아차,nvitational,손주철,호남가,ecording,신갑수,otanic,isoi,fficial,lbums,actile,onversion,jb,유제철,정복영,영동천,인람,trurh,켑코텍,epco,인터텍,련비,김진향,몰아준,권태오,seosan,노기수,차기철,임혜숙,홍순국,허건수,오창호,강연식,박애순,iracle,화로구이,앙천대소,소원장,폭원,이강선,퍼졌으면,신봉길,동상해,문병욱,급여량,황윤언,주택기금,사업성,배재훈,장기운,김종임,bucheon,손현수,정정자,조청식,송영준,inux,최장혁,아얼산,artvalley,pocheon,전요섭,이헌욱,동광석,황영민,niverse,awah,최근철,김천국,hishing,건순,고임목,이계문,장혜림,신기섭,삼선산,aison,방문일,erve,econstruction,문혜연,머뭇,조원행,급반등,박은현,박종면,김대년,정양호,임춘택,씨수소,김병남,ormulation,elta,erald,태운다는,나동식,ejoice,최행호,행초서,한상영,신광섭,동현수,형원준,이두순,손동연,머리치기,기자회견,신상기,무더웠,김인탁,불러올지,비데이,제게도,박덕순,hatbot,잦아질,athways,tockphoto,축등,줄패장,수줄,아동복지센터,채노,름채노인복지관,고창배,omo,rduino,면분,임병연,시어머님,제비봉,어의곡,길배,추대식,특란,utumn,챙겨오,ifi,김광휘,유병천,칼마토,geumsan,심중히,황종현,계용준,송수건,khnp,향할지,박용목,김웅서,열릴지,본무대,심재경,최근영,해오리,비춰도,구본학,rown,reaking,홍윤철,안길섭,조영신,황치영,뒷불,덧바르,ounty,eward,넓혀간다는,신인식,ated,배정회,스탬프북,훌렁,irbag,도로축,조명설,정태순,개입방법,권오익,해양업,ghub,ecu,담은,줄인다고,신정택,조용언,임원재,ooking,장세욱,황윤식,ureau,박춘엽,권선옥,entro,배온실,채홍호,뾰로통,햇마늘,생활한복,산지사방,결과지,솎음,웃거름,자람새,선책,끌어올리기,송각엽,배알도,obis,약보합,권순엽,kcg,ontinuous,해나감,전정가위,이병령,김주대,nder,yte,최현자,lgama,허세홍,촌계,herefore,석회유,보르도액,최성안,bdul,aji,ront,김수관,안정준,양균의,공조직,김신희,가려냈,신명섭,비상교육,먼발치,설핏,벼려,대점포,문영택,문은숙,바꿔왔,anmeeting,ternity,epp,reasure,문규영,esponsibility,팀쿡,돌아선다는,진료권,김청경,ump,하광호,비인정,청양산,천세창,빨간집모기,김신길,서영일,맹정섭,높인다면,활어차,줄어든다면,거쳐야할,어깃장,어반그레이,hanam,막아설,정삼철,권기훈,여윳돈,전해상,정택동,rotein,조광환,narle,unrise,lisa,신예은,발전체,방종근,ico,디메틸아민,준청,공복감,레데키,온중,김구철,아태본부,낙낙,택한다면,김우기,suwonskartrium,다점포,urostoxx,다녀와야,천헌,토록해,장승필,강계숙,utama,뻐르보워,intang,erbowo,정진행,냉온풍기,심재헌,embers,납제,임은빈,떠안기,활공장,윤병학,uilding,odeling,김양재,뜯어고쳐야,윤갑석,inema,nitiative,주주제,윤치원,이상승,집골목,공진단,장민규,윤웅진,셀룰라아제,hield,대액,위랭,yangcheon,만학천봉,전선혜,oyal,iles,이상기류,폐타이어,케이티엑스,늘어날지,류지만,나설수록,박귀현,윤용섭,이지평,축송,경착륙,ioneer,월드만,dvisory,원료비,약봉지,한종훈,고사리손,환산율,정액권,바들바들,성연호,플러스알파,인상기,박정영,조시영,kool,ffair,숨긴다고,정현미,teiner,맞아떨어진다는,panish,oose,배영훈,roducts,신현일,hyunil,윤웅걸,틴티,imeless,recision,rray,박병모,박제욱,fficener,구워져,접해야,막영,활투,자맞춤,오디티,톰브라운,김혜라,윤형원,사재훈,노종찬,곳곳이,개구진,죈다,astech,정종기,황재윤,박환기,고마워할,서강화,황의환,랲이,랲은,랲,한광희,전기원,전명숙,획감,건건이,emissiongrade,mecar,차려질,정상설,코점막,icrobiome,핵과류,이치윤,eumseong,jejutp,수발아,등품,까사미아,세업,메타게놈,늘려줘,elp,남영수,fficiency,gangseo,줘야겠다는,태심,아이피아이,윤완수,encent,기왕이면,조원홍,iccadilly,ircus,erman,dentity,ategory,성불산,회훈,reation,신근식,대홍기획,정연승,recast,위성호,박복규,강신표,신행철,김갑진,권수영,하재성,이팔,강경석,통할지,성기동,김현문,오연균,소악도,올릴수록,추본,겨울딸기,지정용,충남교향악단,천화일,문영표,김형성,ating,황석태,유규선,백운만,해낸다면,나체주의자,ootball,휑한,appily,fter,고무호스,목계별신제,결빙구,유수남,nto,peaking,자구이,한상인,hungbuk,배어든,거랑,시켜갈,송상은,벅차올랐,ccelerator,견강부회,ransform,박달원,권대영,건입,djbae,권구훈,oplik,ransit,ounter,홍효정,특목,상종가,전경남,물놀이터,정병익,입길,중대성,tevie,이종산,오원만,올찬,옥수수밥,enentech,이재휘,이성노,reakthrough,tronger,aiting,구정문,김도안,유소라,reporteryoo,bsession,roove,일깨울,문연회,전도영,권용희,박한오,태선화,제부도,전경표,서송원리,류명현,문삼섭,노천카페,염토,스쿡,ranco,iego,oys,inging,화이부동,andu,궁금해했,oot,정규장,급수차,백곡천,오덕식,효자도,유진벨,민동욱,쭈타누깐이,쭈타누깐과,쭈타누깐도,김태유,최병암,끌어낸다는,윽박,tephan,arbara,orn,김태황,apitol,outube,한승구,안병익,프레샤,조성혜,격려문,poke,oterie,이청룡,김병록,손영환,pple,안재천,구매품,박원갑,리쿡,북배,선승혜,김점구,환전업,안상욱,윤목현,slo,신중호,inistry,마창민,페게로의,페게로가,양창모,오간데,가타부타,신규대,alc,노무종,조기룡,와줘서,박화서,흐를지,최금자,불어닥칠,슬리브리스,이점우,경희대한방병원,관광차,donggu,조동범,최승천,프레지덴셜,기계톱,글썽였,오선희,쇠퇴도,휴직급,혼합조,ooling,ence,발레파킹,고광필,신소형,이용배,nowon,uestioning,welchon,폐강,더해갈,헐거워진,임재택,펍지가,그날그날,기뻐요,민선식,전인호,정휴,고창만,anjay,가세로,굿패,창포물,강윤숙,유현호,판별력,ugmented,김순은,맞춤옷,따순,arage,청정이,선다면,최영득,ocket,oodbye,orry,ord,양현경,문경삼,atrix,라인파크,urface,ial,dobe,hotoshop,anvas,rill,rchitecture,urpose,박의숙,미착수,짜여질,이강태,aritime,이우복,송용덕,박차훈,휴비스,주영희,여태명,붐빌,ankings,최정석,인수증,최경천,강병익,테판,ajesty,armony,풀어질,야범,비경이,sje,정승기,아셨,김권배,문용훈,매복치,습관성,챙겨와,보험료율,남익현,강의료,수묵리,허상구,orward,ollision,tatus,헤쳐온,문전일,제조업용,문화비,기탁자,대마유,인존,군새,가벽,곡학,안영집,전용수,정갑균,문옥배,심상찮,한수용,조강욱,정상식,냉풍욕장,데이케어,답사단,천정훈,유영화,hanbangbiofair,전명규,박시복,내려놨,대천천,폭폭,뜨끈뜨끈,서영복,송경민,추워진,문명순,서영창,껴도,배성태,조관제,검침기,눌음,jangsufestival,김중렬,이뤄지려면,청장급,용사급,박샛별,김문관,유수식,김병래,최훈열,최낙삼,ontblanc,최응기,뉴로스,roblem,윤덕권,권태명,하수나,남상구,eais,김판진,하경환,푸릇푸릇,채워져야,매각익,mployee,지미추,염정호,강상길,당끼,백기훈,권충원,투자주,소낙성,ggoomgil,본답,업마,mitting,iode,iver,소외층,김종혜,andy,ccord,저영,몰촉,고용선,적환장,김수우,시원섭섭,edesign,마지쌀,김석한,indow,oodex,이무자,박강순,구명줄,ertrand,코딜레라,veryday,박래석,omputational,ourcing,ulfillment,김선학,ognitive,이련주,고퇴,송광순,최상옥,메탄화,ullet,연별,달큼,정기웅,naacc,저릴,정은호,와본,해둬야,변창구,허정섭,olka,armen,verture,oliday,oet,담고,반입지,권정선,유철규,박상임,유완식,치핵,주상우,eaven,ecret,tarry,emoria,유철웅,박셀,점시,ruck,ombinator,챙겨준다,ixty,갑태,시달린다는,티머만,hock,쉐아,iro,화암항,특론,페톨,emix,urnkey,aluation,배성철,임상도,ngine,osmetic,ostco,양동영,이근모,지클라우드,ackathon,ritical,최종근,홍진근,조현서,황영선,역대응,허영일,견뎌온,취수탑,사행심,loor,물걸레질,uge,쉑을,쉑의,이충후,홋줄이,유경종,고진석,재결서,나부낀다,접수소,원종준,모채,ollective,ommitment,비오틴,서주호,홍원상,탁도계,역형,lexible,raham,ivic,uditorium,ontinuity,하나은행,이어줄,전현민,김학권,xternal,amification,knubi,kongju,romoter,무신호,고색역,노정규,komsco,편해문,고종완,ighway,펼쳐볼,양운석,유광철,온천공,euville,ilsoul,tage,ordo,oeb,ndrea,damo,지상진,이정묵,트레비노,르클럭,북아트,cbec,orps,임현택,용기중,pwindshk,자아낸다는,안완기,김형갑,riday,박용훈,불명수,겨뤄야,lytics,휴가제,bcf,ashion,서태종,안현호,eparture,김치호,nderwriters,정영상,장동석,박용후,기울여온,roger,ommerce,wner,rogress,ntrepreneurship,나재철,예보도,hencho,orbu,ictoria,강은성,반에이크,올젠,돋웠,이귀재,채광철,류승희,근숙,정명림,공기영,서애련,오승용,ishing,적치장,해시드,최정표,북돋웠,유병남,쑥고,졸였,최외출,황아름,enovation,ruth,hru,성지은,능모,벌어져도,kbiz,박재만,uccess,최상주,nternal,사육비,pirit,oman,감춰왔,되돌아본,박한석,초저고도,변상규,유철희,semas,판정기,erospace,권현준,yndrome,이홀,고춧대,지정근,iary,ystery,옮긴다면,유명상,프레스데이,허명수,nowledge,유지율,오석현,고기호,최찬호,가스계량기,정섬,아옹,늦춰선,닉힐,이정교,수머,eaching,familynet,강신도,백승근,무직인,권오탁,외씨버선,겅솽,코멕스,상추튀김,eeds,volution,gpdream,김외식,남미애,조한범,맥포,탁방,childcare,물들이기,eyer,항송,역료,류권홍,구증구포,정성문,천진기,펼친다면,센토사섬,산도즈,kwater,세정력,뒤척임,eko,uiet,잭니클라우스,에스오,성낙일,톈진항,후릿그물,yicf,orizons,iotech,hares,개선충,이계웅,ontainer,장치장,발연리,창소리,릴낚시,고경숙,김경지,깜깜무소식,atcher,따라준,cfu,김성달,엿보인다는,밀어줬,상장주,찬류,정유천,솔가지,lways,먹힐지,셔링,엽면시비,권련,hevi,서계원,exportvoucher,윤점식,thena,물컹,olby,tmos,총교,권오섭,나상옥,배병욱,급배수,문경만,alf,arthy,apacitor,rinted,rainbowlib,용대기,벼꽃,이강학,청비,베라왕,하야로비,최윤진,왕돌,ecosea,집화,안미자,이뤄져온,박형배,다운스윙,퓨릭,공들이,iancourt,ocks,마친데,미품,걸레질,uawei,lzheimer,herapy,페질은,들러볼,고등어구이,찬거리,여자경,ymphony,심연수,각건,손지웅,ovelyz,eastarjet,권세종,으셨을,노승열,ulip,움직일지,fowi,소금포,외이도염,olume,itation,시거스,유효영,뜨거운지,laza,상전벽해,윤한기,무역의존도,곽현수,즐겨볼,이뤄질까,오경진,lare,ichardson,uel,초호황,dministration,dditive,갈통,고꾸라진,안기홍,윤석정,큐더스,ropical,위임전결,최병갑,채승완,윤대진,구본선,ightmare,강병영,윤진보,우유철,남다를,황철주,ouncil,orce,arvard,한도현,맥주박,송은숙,간삼,민수홍,방역대,년공,윤좌,최광주,김화양,강영욱,페널티지역,정운학,양초롱,박기만,현대생명,일동장유가,일희일비,외화예금,이성빈,연지공원역,이왕준,박동휘,김성언,양승일,서효석,강해져야,번거러움,법미,유데나필,쭈타누깐에게,특세,장금상선,허승조,최은현,김문상,신뢰훼손,우석형,공연료,병립형,idaegu,품건,박원배,정광중,설분,제주조릿대,성기학,고태봉,문성웅,송영완,정두용,쌍벌죄,골든트라이앵글,서울프레스센터,개모기,꾀할지,이근주,심관섭,해나간다면,세미텍,igitalization,지워냈,담겨질,녹여낼,김환열,실강,eridian,hannel,tatista,chak,미상환,oof,opper,조세연,훈비,임치제,namdokorea,ovable,분전반,ivil,quinor,uyer,용비녀,쏠린다는,숲지도,어미나무,고승호,경체조,포텍,강애란,오진표,eutsche,규반,산양유,arbon,obotic,권길주,erfusion,조방형,조양희,노찬용,강병중,이채수,cslee,이현국,최영지,새벽잠,정준섭,꿰찰,소탐대실,채수철,디와이,무살,amping,nitas,마이봄샘,안검염,최택진,문동준,전중선,조성표,알드린,omorrow,이은승,박호석,달라질지,allup,onvolutional,웅얼거리,황도영,오명진,fina,김인혁,첨단화,송구영,옴니텔,larke,건설재,lavor,드리즐,금수장,박화수,한채양,레미마,열매솎기,수상선,erti,epartment,seogu,축방,중투,안용찬,다셨,구스베리,eacret,권리분석,모렌도,임해종,햇밤,황유식,nade,문상식,재단기,전자저울,cdrom,안동환,모형선,hich,노태악,조애경,능마,yson,ruce,박선진,udge,허은철,임가공,윤택진,이대산,전정원,중징,eenagers,이준표,윤일현,aonglhus,ebate,조현대,티업,체력전,방발,uriosity,환차손,고용기,이순미,이언학,허경호,나무수국,장윤숙,연주체,이어룡,김진택,아가르왈,yundai,urrency,onder,공영식,천세계,jincheon,견지낚시,류동근,frica,등외,정춘식,남승미,전남수,ussia,ection,이철연,꾸려온,판별기,etronas,nterior,ekuh,런데이,litz,장원호,노규덕,자족성,orensic,새밭,utd,ngineers,고경호,한다더라,ural,예끼,펨은,공기구,조종태,오치영,양말목,hnart,ailure,mpathy,terate,자제품,벤트존,최범채,차병준,급성장세,이향래,전참,출장길,신현재,문종석,이재모,octor,최관순,순국자,정의로운,숙류,이동오,신친,일한의원연맹,류정희,정서방,신희동,홍기찬,rives,자중자애,직토,가벼워질,임기환,임금동,쇠내,지켜갈,inger,곰피,ocketship,enewable,daejeon,tructure,오납,민기영,이강환,소금물가리기,ondon,카이크,유승협,에비앙레뱅,유필선,축망,신중부,전선로,이홍식,김보금,세척장,여과수,조관현,정양수,오목가슴,김기화,이행조,ackaging,thylene,crylic,hloride,esin,통팥,고꾸라졌,더프너,aking,nts,asymile,tility,upplier,pache,icture,ciences,장부가,신장률,오창완,이철배,elease,acial,전화성,outuber,가공비,petitions,gunpo,dadadac,ffectiveness,anel,nicorn,ubble,한승용,esla,orizon,elescope,휴직원,탕량,세정액,황보승혁,돌본다는,itrate,강원모,까다로워진,차석용,emon,rivacy,nhancement,제현주,박준동,pert,고추전,신춘식,치러온,곡호,내드리,하윤수,들이민,lop,njoy,초환,gunsan,곽규택,최택용,ots,홍창우,서범준,공순진,고태호,완숙과,김천환,한헌석,반암항,이진모,agniber,ansomware,fixt,odinokibi,ansomeware,nampohyu,bip,clop,ciop,상품성,여행사진,삼호개발,유가희,도새,uong,최운식,양성공,자리싸움,allo,ustralian,허윤홍,호수학,공원식,피워야,박희연,곽정우,서재국,처너,용궐,근간인,공장입지,여승구,키스데이,exas,자본증권,estiny,허정수,옻닭,싸목싸목,비켜간,질화붕소,압전성,nteraction,공현식,살기등등,휘몰아칠,권경업,김일혁,사공정규,무수당,영액,방풍막,깡깡이,정원주,이영종,육여,나룻길,gility,수원환경운동센터,nimation,icensing,김무환,egends,onnecting,최형두,늘릴수록,동서천,hopee,azada,구민수,경부하,시끄러운데,ollabo,nonghyup,이창헌,내륙도,quine,ssisted,고은태,약탕기,nstat,백준흠,yrup,atya,orkplace,윤홍천,asser,꼽혔었,골프닷컴,바첼렛,이건원,emi,lberto,김긍수,옴팡,요알,균현,조달행정,건식품,서인덕,스터핑,우종학,송기신,ethod,ainbow,ource,엘라스틱,olypropylene,박일한,애써준,되메우,김창래,햇사과,극이동,오하근,키워요,띠뱃놀이,편죽,석제범,arclays,odense,폐공,최신규,옹기장수,난정기,ursing,간호법,tandalone,빨라진다는,우수근,최재춘,송금수,정기면,김보곤,이갑준,tates,ising,계란죽,규정량,김형목,골목골목,임한다는,조수입,생축,endor,결핵협회,onderland,incheonilbo,참죽,김제시체,황재선,황영석,강문호,중등인,ertification,송길호,착유기,윤동진,정성필,ormlabs,gosi,전소정,김일재,민병조,빗발친다,unshop,송영헌,verhang,박중신,최석종,복막암,공보험,사보험,enior,강학봉,rewer,모의유엔,박양균,olunteer,aylor,pecialty,연초댐,artnering,김이한,최명옥,매서워,입고량,벤조페논,강신봉,onth,물료,ardware,oori,서동용,라정찬,편강,박갑주,곽희상,통살,약환,소병진,내식강,송평수,황석환,노영관,eremony,황규홍,최형림,혼설,일렁일,rief,캐시리스,cashless,학모,후출혈,xpert,하폭,anaged,최현길,곁길,강남이,지우산,마라톤협상,곽명호,everse,외친다고,niversities,ornell,esponsible,이명로,livier,박제훈,현인규,맡겨도,얼룩배기,새초롬한,대행진,찾아온다면,금융망,오정인,농어가,동문건설,고강도강,김장일,하사나,amlip,남성숙,승촌,종시가,nalyst,계속비,쇠도끼,ortune,onditioning,양재환,조윤상,부뚜,enome,equencing,강귀덕,발아율,오상택,rass,도채비,rchitects,kisa,olice,송성근,uacquarelli,ymonds,생신날,김현겸,복포,arehouse,걸비스,강래구,복합오염,xpedited,ransportation,로스앤젤레스항,유농,다정히,xecution,내새,사외보,얼도,민경준,몰아쉬,김민덕,이승도,아이이,불안해할,맙은,정률제,akuna,매선,꿔야,임차농,김충진,전광섭,프로어,롱스커트,정욱준,무진동,대농지,문광섭,주경진,복복,atelite,맵플,민만,공문제,장훈열,annes,ttack,생긴다며,평생직장,에스오에스,제설함,취대,조봉현,더부,드리운다,다가올지,당업자,아모텍,양희동,ccelerating,akao,고일환,inus,이홍채,황의옥,김거성,여존,윤웅섭,커피포트,땅장사,휘휘,최병운,acade,곤두세워야,거수투표,엽구,일렉콤,untact,김정돈,미원상사,임종태,취허,odule,돌아섰으나,한달음,맘고생,빨간불로,공든,강대우,elecom,김경복,icoop,생돈,ezel,ixby,남파랑,마육,육마,못할망정,hoenix,고경곤,지미콘,aeco,almon,점마을,가중값,못할까봐,선용품,김희운,강석린,비쳐질,eys,임채희,안좌도,타당성,이덕배,엄태섭,성토장,slands,함정오,양은주,urt,장호영,권순종,하민지,임형규,강화중,갈아준다,luster,odulation,harmaceuticals,강은현,김교윤,솎기,권덕진,박정엽,김교태,삼일,anufacturers,성경제,꽃기운,olding,argo,flipped,asters,마리아주,ogers,황규종,헌호,강남훈,속금,사지브,매김함,ontrast,만날수록,지민규,글제,조환기,윤방섭,수합해,이동특,배울수록,lju,arrods,홈오토메이션,안세홍,애태웠,신디케이트론,숭어리,백정희,arah,터져야,서수경,정창배,비쌀수록,주기인,블루벨트,나뒹구,비껴간,lick,참꽃마리,장여진,김무길,비워도,한상웅,frican,세목망,이송용,냉기류,노웅,황철호,대구참여연대,보장금,rdener,이환승,퇴비장,최종협,adiz,nalog,onverter,이임지,minjoo,cbhuyang,chiyou,최현만,유우종,권택환,최길수,harles,통가죽,임동우,lind,버텨준,teinway,yngdorf,온금,uch,linical,ementia,은포,rabian,기호식,양재기,안전항,박경일,안상록,송락현,allery,떨어내,살아갈지,하대호,볼썽사나운,rwin,추천절,nywhere,내달린,윤태범,곽채기,ctivity,esidential,hurch,김상묵,예초기,반사지,nput,utput,owe,yatt,장두봉,안혜연,권기재,고수익,주택저당증권,과세액,부서짐,취군,elfie,홍순민,ioello,제커리,atalysis,김홍은,홍봉철,nsemble,채운다는,허용도,드러날지,euse,정담회,만지도,사라질지,싹틔우기,양철기,붕어찜,슈왈츠만,원광식,유학찬,번들거림,onic,주차권,김태철,arry,수복강녕,부정기선,김갑제,aeed,쉬슬,주종대,최창혁,onsortium,맥줏집,강난희,민어회,보관비,배기동,최삼룡,구민상,지보공,월안,안경아,황산니켈,엘클래스,이불장,엘사이,송순근,박석주,해가림,온피,tudies,풀려난다,idsize,egment,황등호,이휘영,고의영,alloween,양영환,서윤근,나경선,되판,배성혁,ssential,강봉룡,pera,세워온,천결,나상욱,키스너,유제영,형황,가팔라졌,찾아다녀야,비지땀,보람차,해낼지,apanese,새청,elvy,강민식,촌유,인께,낸데,하바리,cycling,박형호,물돌,이경상,개표소,좁혀질,musinsa,견물생심,jongno,문경주,첼릭,전생규,첼릭과,배세영,임진홍,유성운,hinese,유태환,불러일으킬지,서희선,iabetes,문진수,hysical,강신겸,황희정,오창균,linic,차태환,느껴도,훈포장,방진벽,심재화,김상효,이샛별,이병한,lame,난업,eorge,약문,onbid,igand,차경환,한찬식,이양주,훼미리아파트,본봉,배롱,수단그라스,점표,진천규,exico,ouring,한도희,오재환,orbes,재고순환,우셨,earable,송년사,배표,ames,edium,구본경,kins,radon,채교,헛물,amda,권분,니자티딘,전영환,공홈,배성범,문찬석,임일진,김찬종,oire,eorgia,ysco,염상훈,김정량,고신장,ensor,조닝,oning,ayering,골드뱅킹,정충호,착과율,오동선,중보수,회직자,중가산금,타기팅,누증,테크노크라트,assion,emorial,가격정책,정태모,주만수,eafood,heese,지역청,esignated,선우명호,휑하,안규진,안창모,한쪼,최민욱,흉심,권원강,ourney,에게선,씨로,dvances,준비자,ogo,머문다면,떠먹여,만지작거렸,내청,다이궁,조명우,sdw,권영탁,iler,계신지,이부형,박제영,김재겸,수중사진,최희문,안효준,최명국,에디토리얼,urbo,유대영,개정건,lectrical,빅텍,raud,증질,배규식,ccreditation,cheme,최창영,mericas,imited,이병섭,아브카이크,bitly,쪼인,이수석,깎일,전홍진,gico,astroenterology,대중탕,ydrogen,albacall,강준치,반가울,색택,손꼽혀왔,황순현,읍권,lanc,공공녹지,인디드,기입장,지주목,우이독경,고기연,왕포,aguar,샘팬,aran,pproval,순법,아포가토,부도났,efuse,비판결,erial,ooks,eeing,ebut,계단참,iren,열렸으면,웃자라,오를까,exture,흘려도,백명기,구범준,정덕관,박희근,ustin,최준선,원종목,띠잇기,김욱준,eliance,반가우,허승범,진교영,rchery,hampionships,ompound,고호석,witching,노광표,nsan,송수남,윤태양,everland,urniture,amco,rary,김남철,통학차,isaster,유귀열,남원식,남재철,xpanded,ncore,온습도,앗기,강보영,반히,allpaper,한웅현,최성해,moking,예삿일,usking,irth,bizok,노인병,강원형,주니어급,rosperity,미용인,erdi,lleh,퐝퐝,연오랑세오녀,오원식,agle,침장,홍현정,suwon,김찬성,신광렬,angladesh,arayanganj,awa,진회색,조오순,사고팔,eviews,스탈링스,lint,정석근,붙여준다,mbossing,김후곤,후분,드셔도,리우신,임승근,박규홍,임무영,심맹,손옥동,드러낼지,차려냈,애써온,teering,쪼그라드,성대규,기검,엄기두,양딸기,양승돈,진정훈,ignage,김기세,바빠진다,서상옥,서유승,맹그,정영채,마이던스,케이제이,bezel,유광욱,민만기,녹색교통운동,oment,혼합세,포스트게놈,소인원,acility,응한다는,embley,원영섭,엄모,홍진숙,어울어지,공병학,내열강,unch,남기범,김승종,도성지,헐거워졌,사지선다형,장우승,민승재,osch,anofi,양재무,박진균,olls,윤성하,박일배,lement,시험포,고운하,atson,우준영,고정재,정광삼,hris,lexander,삼농,임희경,경동도시가스,전일권,책상머리,고마운지,탈세자,임수길,임채덕,권배,윤호근,종감,xperimental,fficer,노경원,전창훈,싸워준,yber,tamnao,trategic,ramework,충동구매,팃은,장영균,휴비,출렁거리,절놀이,박문숙,xynos,시험편,수료장,뷰스타,유동주,예비력,대형물,노상주,결금,도경환,불우시,utual,사진엽서,최낙훈,머잖아,삼웅,최남호,시린지,오교선,임중도원,양칠성,자기변명,앤아처,raton,고무마개,이무원,진현환,황규민,최종순,박장웅,빌딩풍,oal,남기옥,vidia,aidu,sportal,시뷰,rossover,조순계,tretch,정밀과학,풀릴지,tadium,정중동,이우광,곽수동,준설선,갑상샘암,inal,ule,조승철,정창우,이봉관,ulju,tefan,토끼몰이,etropolitan,방희석,amination,김봉빈,ragon,남요원,장해룡,오세규,이홍중,강충룡,hootout,pecialist,ontest,일품요리,해둔다면,허정석,도두항,나뭇길,세물,김삼열,oelof,eil,익만,접어듦에,달초,권혁산,신재흥,ince,박준국,어개,허용호,조황희,가시화,정민식,신환자,단수수,bility,임정묵,oxer,문정부,박용덕,kiho,전동력,권오인,모아질,김갑섭,고근호,휘몰아쳤,olbert,earch,주현종,맥주보리,firstschool,유기업,asablanka,inta,취사실,orner,아갈머리,육현표,주민숙,김진삼,urgical,김재문,hrough,heels,ackson,정원기,테왁,권태연,마시안,양충모,조번,otel,산농,opod,조찬래,윤용수,수진기,윤지홍,윤용혁,amper,전전주,유무형,오인경,장신철,후텁지근,임태원,동성명,ousing,읶메뜨리넹,채운다면,조재흥,예상량,마크라메,분골쇄신,여름내,휑,어른거린다,희끗,rendez,ternal,소공연,공공심,몰아세운,opant,아브람슨,놓칠세라,ptical,ssociate,임민호,ynx,jax,ultan,빨개졌,tella,자가운전,성명호,백지아,매달린다면,전시판,뀄,백승렬,장제비,겹보,졸대,섬유판,그러고,김옥조,문진국,고광택,oat,tandstill,이영필,photosmith,이근필,페츄니아,한솔개발,evenue,남종섭,심규순,김종겸,enault,받쳐줘,김남곤,폴리올레핀,치발,laus,tlantic,이항수,정춘호,권옥연,안영석,강종훈,hrd,더테,대출계,투쉬카,풋마름병,신태성,히알루론,몰염치,홍성보,장학교,장수찬,장상피화생,급성위염,aribas,름테라퓨틱,전현진,세워둘,eemart,김채규,조성길,haracter,류연기,송승철,방역차,유헌종,pgrade,이진철,통사관,돈관,정일문,민경석,펴도,운범,gbsa,송기창,홍덕수,김준재,허재형,괭생이모자반,짜글,뒤돌아봤,황성익,봐주시면,urphy,장순재,hilip,illiams,신발주머니,isk,utton,신정재,경영권,해제면,백롱민,kihoilbo,빠질라,꽃소금,름싸이,usion,omaine,arker,elationship,오대건,emote,ensing,erforming,김희종,장인봉,acro,amma,정화용,장범식,아쉬워할,겹벚꽃,총집중,적어,윤건식,김동전,읍례,박윤준,루크로이,더워진,리스비,곽정섭,ignature,사과장,순지르기,곡물건조기,식차,최상록,haker,이경찬,박균성,원혜욱,ollywood,장호석,구영모,신용길,억강부약,ibrio,움츠렸,전홍범,민우홍,임성일,신속성,과맥,omplete,xercise,원장현,배성수,ambridge,olumbia,신용한,조영득,가르쳐왔,안홍삼,보니에르,onier,양봉협회,nongsaro,고병기,단전지,장대원,축사도,커갈,백영서,ony,ellowship,양준일,광생물학,ollection,배태민,박항식,onald,lert,leep,정석주,주한규,간소화,성과품,스펙스,비돌스,나기성,송혜경,정순식,harli,닙이,공공연이,송금인,진재경,피래미,삼굿,ynn,hadow,배세진,정우창,코크스로,닙은,궁전방,신문영,일조시,홍성국,ronze,gosims,임관택,조한규,홍명표,청답,깨워줄,열풍로,안용규,arametric,ewel,대향차,평취,ntersolar,김창학,조각기,자급률,물봉,ddm,쏠페,테크토닉,웃어넘겼,ounce,olecular,누그러뜨릴,remiere,김형락,eactive,pecies,bbq,보여선,뷸러와,egend,ider,무포,근봉,문현식,전미숙,iner,황찬영,산타랠리,퇴계이황,조한구,진참,알칼리제,변병,희마,박규연,가시방석,박경린,oons,suncheon,최중열,윤여주,ancing,서강석,정제품,서유성,ierre,가니에르,감사지,합직,ygge,정무호,서형준,쪽잠,박학래,하홍,가경주항,ffect,nabling,헤아려야,강팔문,가열차,황현식,김중진,윤종서,이래라저래라,이정곤,북돋울,ount,탄결,김근제,디딤단,입사식,임재춘,초대권,아플까,고성보,김필환,당현증,cpoint,전만경,할인료,주도형,선정은,정규호,필렛,유중진,enefit,서호영,심각성,등댓불,ecenat,대중음식점,내려간다고,양농,배상안,양동윤,김평국,arjan,김필주,권광선,박재문,인상담,대기차,비닐장갑,권순원,하수도법,흘려보낼,장종산,iddle,정욱조,rowd,unding,아껴준,백인숙,우천순연,최종문,rench,백양산,환치기,igration,asj,골유,서응교,파이버스,ilicon,고승환,장철순,안동국,축주,제재목,udens,luetooth,가꿔서,rmy,동문재래시장,끝전,이승봉,몹신,김연학,파스너,최규희,지방혈증,안동만,백영수,궁농항,연신내,ndoor,pril,강이구,조운행,까다로워질,anyang,rofessor,동질화,ebtor,ossession,꽃잔,nrique,배광수,포트러시,탐구력,배속재생,까치둥지,임한택,실용성,정종옥,바이런넬슨,통반장,이은환,곤두박질친,기정떡,빼든,외행랑,임춘우,전재옥,촌농,벌창,헤어로션,이익모,소순환,perating,철옥,넓혀온,비쳐서,레이킹,오주형,pening,임야도,달려나갈,erf,안영훈,김규하,ounder,지핀다,이경모,박시훈,은시연,이장규,얌체족,elbourne,최금성,eduction,김민현,최태수,김성선,침착히,페널티에어리어,안내업,노기호,고학수,잡혀도,김종율,박금병,꽃목걸이,안병하,황인창,엘에프,마우반,dversarial,ochon,시장판,ebruary,마두희,nyfit,정구철,구명환,비켜나,박천명,송명철,오주헌,추만석,최동혁,류정원,오손도손,두터워질,강철준,이헌숙,azan,차시대,경직도,ndoscopy,ackhoe,oader,이은기,정악단,오창희,인스크립션,이윤모,epal,가두방송,화순적벽,indoh,허윤찬,arie,위함입니다,wiss,ermany,gri,윤종우,박우성,밀소,마늘쪽,장능인,신흑,배함,urope,색구,rocessor,서영관,친북성,백경호,nclusive,ities,egeneration,rebate,fax,junggu,efore,ocation,오병기,초경량,홍영준,라코닉,박인현,나병준,평가익,박연진,restige,알톤스포츠,drian,chrinner,anaging,irector,김흥선,와글바글,첬다,절구통,홍성완,페널티와,온기운,순찰원,세탁장,충전율,권영건,키친타월,이상채,행정개혁시민연합,overnment,정기환,손중호,arim,riangle,조주완,magine,곽재선,박규희,lide,sobijacb,오충진,주조사,연탄보일러,itality,끼칠지,곽노성,lipped,오토노미,최동기,ighting,egional,얽히고설키,묘삼,천한봉,강도태,탄내,모빌아이,정성립,huc,hree,장일홍,이우봉,홍성구,최민근,강즙,백충기,탑신제,살립니다,차인혁,토취장,이무형,정원철,uromoney,전문서비스,박천희,장종호,이현덕,일머리,폐조,원경환,임헌문,엔드밀,황희연,송행수,cbe,열고,착불,되돌아봐야,ospitality,akarta,이성창,밤마실,권오형,밀리카,조치흠,임신혁,드려도,곰소만,아껴온,urgery,기투,두재균,축하객,exus,ercedes,enz,좌우상하,별렀,상하이항,anoi,퀄팅,문홍성,배종찬,정하웅,안드레스쿠,wift,onas,rothers,류철호,질축,측고,ompanies,햇과일,신용희,카레리나,헉헉거리,비당리,문경란,정용철,김화복,한나경,김문태,페널티아크,uartet,만복감,주류품,경광봉,tranger,aradise,lla,카드깡,봐야겠어요,khug,김천제,ills,hipping,아롱다롱,임준형,태민호,강효석,도주공,방진복,감단,진정호,강석준,지수인,eginning,강문식,마른기침,고존,신은호,정창규,배합기,bulletproof,김춘일,국축,최영묵,verhaul,주식전,양광식,방재율,새로워질,송동근,김선범,이연진,embership,정정일,ongs,미온수,내봐야,원산폭격,crubber,어린이극,신달석,허남용,uilib,언더라이터,원천역,irror,박지산,챔스리그,unes,방수문,마자라,서성였,geumcheon,이경률,lein,이기엽,버벅거리,milli,손메,차바위,곽기,면액,전경수,tewardship,장석복,구매제,병색,노충호,양기철,면바지,유압잭,ngeles,riting,홍성각,능성어,오던,오등,류찬수,장재형,oments,altech,ngewandte,hemie,살펴본다는,ompliance,노국래,roduction,신트림,약치료,엘에스디,llianz,arque,생마늘,atrol,쁘앙,오너먼트,장혁수,견뎌준,무단출입,이대흠,싼데,무수천,지끈거리,독탕,ndices,이광구,잦아짐,임우택,ollar,가계비,반개혁,확대일로,에스피날,꽃맞이,heeran,elon,aum,irculation,최우용,허민진,파망,지켜진다면,larivate,오리라,nnual,더해,김찬동,igdata,매니쉬,박병헌,곽태일,akro,김여옥,북돋운다,arriors,증운,제집처럼,윤경한,utomobile,quadra,orse,icky,핵가족화,장윤수,현미밥,조용안,통술,준법성,전승수,벌키,etbol,힘든데다,최종희,정우림,리틀리,윤병휘,소착,존가,이돈승,강부원,최백영,ebt,atio,ombined,chubert,apability,llergy,번거로움,밥반찬,배농법,복도식,nsulation,박원용,anguard,공고상,유재선,윤석봉,chatbot,최대열,나빠진다는,고수선,onors,떼였,윤영학,한자학,rian,urora,채울지,배동신,구미지,안성구,살찐고양이,송명숙,boseong,정복철,제주말,청귤,김훈동,노란불,팥물,손종원,tamps,대든,산단풍,김시경,harr,전광영,류현우,배종섭,atin,teven,이한범,문희영,김대관,피케팅,쭈는,타오른,내편이,essage,foodsafetykorea,김남재,정근식,ighthouse,박대순,조섬유,간이매점,잠재워야,nside,테틀리,다친다며,뒤집개,토양보전,권오정,면치기,동자치,김익회,통감자,면식범,피지샘,riented,김봉주,노정래,최창열,반명함판,정주기,rude,ilk,histle,이봉호,면제사,와킨,불소화,페딕,면새,김병열,살아와,할망정,박배,김경율,볼썽,ologram,라르테,선팅,satisfyer,맹비,소매가,eporting,안후상,학생층,서근배,koreapost,epost,박주식,회계감사인,구헌상,이분희,uty,조근제,냉수대,다한다면,문철홍,뜨시,경악스럽,홍석화,griculture,천보리,골드선,트로이온스,전안례,astian,ertzky,소날리,탑형,utterfly,압수품,김정유,달리도,오동호,durunubi,dmz,꼽힌다는,ccount,조남근,한종설,조철희,장동섭,배두용,승전고,lurry,부새,양호승,강다슬,떡보,울디,류호담,ommons,그린재킷,권오균,윤건수,찹쌀고추장,윤삼수,결해,화약총,예건,롄은,고생담,뒤탈,iri,와그작,미납금,마텐스,락토글로불린,송경석,대승선,오진섭,기차놀이,맞대면,되가져가,가는쑥부쟁이,최운실,방긋,임대원,안명환,축산가,acob,김화만,김덕술,임채운,입교자,정명채,간호섭,엘렌느,시쳇말로,nfluencer,pcycling,최용구,홍은지,신종근,안순홍,xxon,obil,펜데이,oundry,ruong,집철,용홍택,경관학,염수선,mnuri,추린다,옴브레,uerto,alcard,ites,정지승,onderful,유희강,김신효,강신용,itizenship,강계웅,김은생,내걸린다,erck,aperless,eits,도상철,racker,심영수,범승,내팽개친,줄인다면,낮춘다면,뒤져도,두번째,oody,자청비,loating,unnel,차카오,dvance,꿀밥,이원목,윤종곤,조상필,mpossible,ossible,가동율,단기일,내준다면,이흥규,정교민,xide,hoir,다모임,민어탕,진납,박도환,김신섭,왐수다,obeco,포슬포슬,김선복,문태식,누빔,로스원,유원종,공연권,최명환,eonju,howcase,소병석,황의수,이권형,rusted,ilan,uring,rypto,mpty,leaning,복지경,만원사례,중몰이,김낙주,연제찬,esk,helf,uas,aisson,오갑식,송현종,uljuart,bigdata,norganic,chollipo,화훈,nvestor,elations,제한림,고경수,양지호,innacle,fbo,mollient,유형민,정상화,ynthetic,광칠,남미경,ebecca,패조,곽노순,도선료,도선법,omes,psos,황은희,적격대출,무상수,rips,xecutive,echarge,ecycling,라트라비아타,우종억,박용자,전용배,내세운다는,차성남,oogie,구주모,거둬온,말라카해협,한용호,심상권,eattle,ermaid,헐레벌떡,헌향,박귀봉,송영명,ason,걸음걸음,전춘식,yung,쿳시의,jejuair,abien,smplatform,태양금속공업,안명희,조명등,anish,생활형,mfds,iding,급복,설반,시아일랜드,한창규,athology,신이섭,하욱,향로산,돼준,omposites,othy,박환용,콧바람,siheung,전옥희,복숭아밭,이차웅,김낙천,허익수,박대환,지금강,삼혁,물건비,동석자,동량역,접형,mpah,uct,전인장,문견,지노위,대추차,룖며,룖고,정재엽,laudia,뇌섹녀,이정직,윤경근,efinition,김세혁,lbert,선뵈,폴바셋,신일섭,원재희,박승만,무거천,돈방석,innq,둔상,손부채,류대환,artial,oding,황정산,류긍선,집돼지,녹여줄,들썩거리,사회지표,속모,onsulting,최현상,보탑사,nspector,tring,배당기,평골,페게로를,rost,직장경,김록현,김형걸,전종순,배성열,실표,임채기,자베즈,ontact,찻상,홍춘욱,목공실,동애등에,사과즙,김순배,임희택,오석규,avis,황갑식,agabond,gmuc,arquis,회필,oston,김평원,커질지,acation,빼냈다,oyota,강대환,권이형,ountry,cmoa,daecheongho,봄배추,초미립자,홍기원,향유자,echanical,ifac,부출,이광옥,ignal,신주식,ededo,어지럼,송명빈,능재,oseph,남미숙,이철량,이불솜,쭈와,홍순조,서래원,유종만,원광석,프레즌스,albamon,oonlight,치면세균막,evere,채밀,다져질,기관수,efense,ogistics,대만전력공사,승두,차지인,ountain,eloved,김승배,ammer,eacon,인재난,공통현,외출자,싸맨,탄동천,조대웅,조국환,경사연,천사무엘,난지도항,남녀궁,verall,utfit,올린다면,강호연,인물대,함인선,배용수,elay,박종안,초해,웨이하이항,컷백,살아난다면,홈닥터,손미정,장고춤,발파공,투광등,지효성,괄도네넴띤,괄도네넴띤은,llen,gsjangter,장원철,서종석,egulatory,yongsan,장지상,가져간다고,노석미,맞절,깐족,스피돔,재휘,권영선,현물환,몰아줬,기다려질,거름망,호남오페라단,간질인다,심두,철의,현준용,양혜규,로빙슛,장재홍,정종길,micore,문미란,ilson,정기모,수종인,이금숙,채준호,이의주,권성준,목단피,곽윤석,조현구,송문규,이일염,방문차,고승익,최병석,전용운,권택현,oyce,소브산,경관형,최미화,ngland,hale,harged,임광호,강나은,오세중,오장근,장원배,출통,이상명,신현보,이철조,얼음과자,소화율,체등,서베일런스,urveillance,김택중,이회림,될성부른,쌀떡,신영삼,iambattista,alli,심해진다는,최봉문,공깃밥,fss,김용지,황용필,입회금,lur,고정현,중도위,한희진,구본권,추효,iberal,andscape,김삼일,atent,애사심,꼽힌다고,손진수,lags,상선약수,최병곤,그래야지,이일남,최병무,주용노,unny,거름주기,도금액,조기완,ecudium,재격,osmetics,가져와라,하혜수,ultiplex,명태포,arallel,오상조,rops,해덕진,김순란,박헌준,팬시점,김형겸,백지선,정현완,이금옥,으냐는,커온,최백,시빗거리,ithout,nchor,alu,속싸개,임록,김양석,부식비,치워도,김상춘,에스아,reeport,illing,콜라비 ,창짝,설쳤,혼파,이럴수록,빙하수,손석민,icks,유승재,박해철,전력노조,raig,남익우,김록호,가셨으면,스카치위스키,정기형,이만균,전기방석,신청주,안보특위,정병운,이현청,iolet,glap,uds,전잎,ender,대변기,ehind,ircraft,최찬기,결주,솔락,dvisor,박연옥,임우회,취반,이종흔,전이수,언더패스,김두황,진엑스,imak,페널티박스에서,두런두런,허용수,일러도,체선료,직협,공무원직장협의회,ontinental,한대는,설경민,유인재,양창규,계협,골감,강위원,rchitect,처간,키운다면,hirty,addy,정원미,현답,김관명,방사무늬김,누월,실리마린,과학콘서트,공굴리기,송한나래,내국법,비춤,ierra,uque,sciencecenter,체리쥬빌레,안건상,자유식,은행주의,내풍,ighly,ited,도난품,강대용,전동현,hefs,ocieties,orker,보신주의,오현전,맟춤형,복리비,무케시,금속본,김재후,kspo,othing,황폐화,황진택,이중제,유창재,하얘,구겨서,송규근,손동숙,채연석,진천뢰,aturday,teve,고소대,enie,황중곤,박승영,신광선,idolbom,irthday,홍용성,바꿀지,써내려갈,칼마이던스,대보름달,등의자,onservation,랬더니,방기봉,최진곤,wegotoy,womanizer,elation,서범수,verybody,전정자,운용액,모임터,중선암,베이비부,nderstand,모래찜질,ffairs,역강,양홍모,주재구,거뭇거뭇,성현출,남태윤,황유경,거세미나방,하워드존슨,정주석,김덕모,남성관,송수련,금어기,권영락,끌어갈,허주원,피맥,김옥준,ault,김춘열,돌콩,오두영,권태엽,자리잡히,호배,김선택,향발무,휘둥그레지,닉댄스,너울거리,알속,eutral,특광역시,angna,espoke,박우균,뿌려도,윤미화,조방원,류재선,쇄지,hilling,콘란,egan,payroll,이남길,쌓여갈,강홍순,ancy,라벡,바렉,김재향,이교재,틀려먹,gojobs,gle,hore,심재진,아연철,ueens,정빙,통합역,저어야,윤승욱,감분,elective,atalytic,ulio,esar,aglione,cbckl,부식품,건강식품,차형우,하태규,별송,ilent,더뎌질,아기나인,취욕,검사조서,최우상,홍수터,홍철수,손정미,euroscience,서근찬,후사경,박진기,치른다면,야홍,권한나,박희승,유희태,lexa,까망이,최대규,음료품,동대만,석미경,임찬혁,떠넘겨서,신동화,임민욱,길닦음,연목재,turnkey,참고표,탄회,산희,신재환,바드래,nalytic,조규곤,배정인,울체,오덕신,myloid,몌뉴크,매콤새콤,성상엽,쟁강,채종림,이주태,cholarship,jdcenter,nvestigative,미끄럼대,옉스,조범동,입상권,rammy,장규진,야밀,하효항,권윤덕,astern,돨,방언사전,박찬운,올라간다면,oward,곰소항,gongju,위탁물,주영석,좁혀야,하이퐁항,ailway,nock,무마용,eborn,박상석,김서윤,생지황,건지황,주택구,riends,원재연,orderless,인양기,황인규,주재걸,주재환,adical,구건회,권달술,영농비,대두박,nknown,최덕현,읊조린,장병원,신용기,팽만,소곱,rokerage,lli,묵연,공동전,황요,arcelona,준엄히,유동우,버틸지,onova,ingularity,출렁거렸,배귀남,정무성,숭사,차천수,eisure,방역소,urved,ortrait,김진범,이상제,potlight,약욕,lofin,초부유,equiem,임재규,asting,imicking,팔레파,habi,송삼현,권순오,뽀얗,드셔야,ollable,에퍼,손동환,신현표,최현묵,busanbank,jpdc,niv,dgb,딧마켓,기영옥,nvitation,안경관,loomberg,eroes,김광홍,끝간,atellite,안성례,검사계획,하리아나주,최등규,양현철,춘초,dac,도덕희,성종상,조세환,김성석,이정지,원용일,mergency,연령주의,온장고,입도선매,농협노조,생활대,담채화,지영난,arbepoetin,mgen,양육법,nterposer,황중유,oreign,nglo,overage,명소지,ndian,enue,무역수지,hartered,만연산,두레이,nterprises,otential,옥우석,써지,financing,김학로,열려도,사평면,제일테크노스,assage,페브릭,저실,정봉규,최장규,구급품,apago,야노시호,utdoor,생전복,제진기,획선,저래도,결초,송홍석,역전경주,artport,뛸지,nps,inning,rism,칸디다균,미까,eak,백경학,ansom,병액,urgeon,서지용,iscover,lfons,faller,reating,조경석,주광색,박찬승,최동하,연만희,일궈낼,류성규,최성구,항혈전제,보탠다는,도전체,임근호,edicare,용해로,nique,황지은,문춘언,rancois,윤영중,nihc,신말식,마리오보타,김환경,솟대쟁이,uthorized,민병원,상태기,증고,진영주,최광용,노래곡,청성곡,gjart,치여서,윤준원,장원갑,허주영,노린다면,홍성부,안소정,llan,acao,숙변,윤제용,추워도,유솔,남기헌,어복쟁반,무등산수박,황민수,내림프,부화기,ampus,이기옥,dventure,hono,슈광,최형순,충력,치른다고,으셔도,미끄러울,침소봉대,신명중,pcycle,amebase,최병조,정기정,oir,광승,한승준,황백화,이홍운,툿값,검가,적항,odec,사그라든,icpa,ollow,춈미,춈미는,알아볼까,휩쓸려갔,흙토람,공기열,송경용,사하중,김치라면,짚공예,eacher,단지기,표현명,oronto,노명식,서정복,조기정,최광균,김정홍,홍의선,고이코비치,연마루,김강선,가수요,스리다르,문태곤,우종우,윤영근,nyx,itzgerald,김보중,사그라질,alace,umff,화산회토,예비안,한국쉘석유,ertz,omptatible,양동호,eams,추적추적,그라우트,옵션거래,전승근,lood,dissea,선뵌다,onight,대명천지,발굴대,스펀지케이크,윤창노,dureraum,권혁무,보령약국,숙률,움벼,윤홍상,ponsor,박기헌,권상순,심상욱,김현환,형평성,opinet,에이치이,alal,errace,떠미,요출,inancing,alm,eosu,배남수,고숙희,결실률,예치기,폴로셔츠,흡한,배양육,ontinuously,ariable,alve,uration,수막현상,조은상,hotonics,이남식,안규철,탁협,calable,한형석,차전자,노여운,송경숙,두드러진다는,현정훈,일성건설,시어서커,강한구,김맹섭,유니셈,roubled,지영빈,변재용,오종석,jact,다다다,임재성,신뢰심,강하구,송석복,떠넘길,브이넥,향분,윤장식,그라인딩,eavy,내빈석,래닉,넘어선다면,메타자일렌,온콜,ancet,놓친다면,황전원,선회장,역계,전종수,김홍환,서영규,불수강,itizen,안희덕,한만성,hejiang,흩날림,납취,브랜드력,ewp,강원경,송제근,하식애,urich,nsta,소송건,비워둘,일각서,lark,거칠지,서석호,국전지,남북경협기금,김순견,이동채,outhwest,정찬두,폴리체,오일석,성기욱,고동원,이종연,황상일,코다코,전창록,glocal,sangsangmadang,류연희,김건주,ftc,구자호,safepeople,이스란,자라도,나배도,rticle,uvipharm,매몰자,casamia,퓨쳐켐,좌변기,윤성상,피에르가르뎅,이용윤,동종사,몰아닥칠,방상수,해서인,갸웃,주대영,김현유,이에스에이,lly,대아쟁,정일균,박성칠,장인상,조문호,던질지,염홍섭,tartups,수염하늘소,고디어,배태웅,athering,박종락,노동수요,조대성,방정원,김유혁,나갓,이형연,형지안,송우혁,전제용,businfo,enomics,ulian,huyang,roposal,석엽,imulation,이호규,roactive,황인상,부틸렌,철홍,박지도,반월도,된단다,이해규,념사업회,홋줄,이티에,easer,inge,털세,빨개진,주재홍,편마비,허군,osh,오수혁,진윤수,비금도,떨어질까,강재홍,홍성길,나로도항,최병만,oads,양수겸장,눙크는,배상비,고인석,오세옥,송액,조재웅,수크령,대슐,견질,물입,이은모,하상도,고영찬,정종윤,임지형,마금리,송관식,전혁,flyasiana,애란원,코드론,처가댁,주효천,ould,tanding,황호선,issing,levate,ractices,성주봉,문경준,mni,itting,권찬호,kab,나인원,백급,갈비스,유진현,류덕현,redictive,eggy,igestive,iseases,압탕,최재붕,조국형,rotective,멸강나방,혹명나방,정원대,정리대,홍순광,icking,윤창환,하역업,조삼수,이민행,허용구,연다면,임기철,류해민,hamp,박양춘,손진욱,후즈후,housand,illie,ilish,reatest,nough,ady,고경빈,통고서,ittrex,엔아이,주의깊게,노진호,김문일,resent,한시바삐,공들였,나아간다면,배진희,량실,iant,icnic,최성옥,문종군,kibo,윤창륙,정태용,bibigo,퀄트릭스,권성택,전희섭,잡힐지,시벡스,김해종,는교,이윤구,ounds,방사법,홍연숙,들려와서,윤양배,권혁중,ives,pectrum,이택용,최규명,퀴스케,장기윤,독학생,윤기석,헛짓,tream,남춘모,이교준,남은주,바빠질,안성혁,한고비,클로로메탄,김주옥,이종업,박경귀,펨빅스,임력,주명희,ycpark,장성연,최명재,김시황,혁상,ustralia,만성화,유장식,anuel,만업,elody,차남규,더워도,llset,리콜제,피엑스,김병엽,신응진,박중권,키워본,탈탄,김형관,성현철,류홍렬,소성렬,홍순덕,류제구,조의원,ugar,elax,목직,문진일,이왕건,바가모요,씨돼지,노영진,살아날지,함유근,흡입량,laska,몰캉,정원재,박찬인,붉힌,따져봐도,북파크,전원표,태분,유영제,ieter,etz,이태주,정경일,윤한수,들어선다고,형사벌,ktcc,이용미,최가연,이용렬,김장욱,순편,정택근,전광호,igilant,출외,박기식,우수받이,건축사진,alancing,로우독,조경임,iology,소솔,지연해,브루셀라병,중군영,버부리,보라칫,구성수,정태관,광택지,먼나무,차규근,펩트론,휘청거릴,무량산,weet,ilton,ontract,질변,슈가버블,잗바바,계절상품,곽병성,수의직,akkt,urdue,leeping,ompetitiveness,냉풍기,조명옥,하섬,원광희,oodside,재교부,한창석,박찬진,송혁,유규상,김석붕,휴가객,벌배,uller,재징,숨골,이효근,토탄층,박명구,knu,황인관,유병대,중학년,퍼블릭스,imchi,aytime,김재도,loria,아스드루발,앤하,천혜숙,유광희,dgbfn,발라준,에스엔비,서용철,수리취떡,견뎌왔,유재업,aicoin,altcoin,아낀다고,efrigerating,xposition,etect,하승완,들어올지,canias,간출암,echnologies,irbnb,반출량,옥창,변비증,붐빈,nsure,석채화,조청명,신승재,이어도사나,ohen,강규원,과태,alidation,도대사,반기성,북적북적,현곤,문희장,volving,허수영,림해,orrowed,cenery,정성택,배정찬,최경근,황운철,내외간,안홍식,김종립,홍정란,조진용,장경자,과수류,alleria,꿀벌부채명나방,베스텔,산달래,오진율,odified,관절막,나윤호,드르륵,황영현,엄정대,agrix,엠앤디,양희준,랜싯,박경목,장동희,유원희,월배동,홍정석,박종광,김외정,속성수,namdonews,엘에스엠,ffective,icroorganisms,오상영,신축도,크레신,오희균,송봉길,브릭만,범희승,린이푸,racle,삼약,반찬단지,arvel,에이에스,왔을까,김태백,열분해법,비등기,진인주,나경광,sima,oading,nterconnection,한선현,eeks,백종범,itz,안순호,복거리,육송,세침,장세홍,미결사,여열,안쓰러워하,충전공,outhern,권혁운,신승일,조정형,농문,김제선,홍종표,물무,바켓,izzy,onster,곽현근,김규흥,nicom,tuff,김태련,최인아,임광섭,eminar,어장터,길직,케이훼어스,euveau,엠앤비,궈웨이,국경세,보수세,romise,emperature,agnet,임상용,ictor,arman,맹승진,ddy,elix,허술히,띄였,atd,urple,환영연,얼음주머니,oren,nterim,교륙,직수출,박윤택,고광선,신세돈,택부지,심미경,조용술,송승연,alanced,정성식,박광혁,임창건,백범수,김재주,임홍기,인천연안부두,이정행,사리골,한진현,eit,일할,reaming,rtois,halice,박해웅,변재형,바닥권,문성수,ided,여성토,김웅희,덩그러니,ooster,알린다면,다릿발,양창훈,걱세는,angerous,알베아,위응물,oncler,ngels,블루종,김산옥,aybooc,단옷날,류재철,가경터미널,임병훈,데카트론,oycott,김춘경,김진남,arpet,ontemporary,만조니,xis,고정곤,박병국,charf,바늘꽂이,asty,칭다오항,완화책,김후각,유석재,달걀노른자,법공양,멈춰설,oche,tox,reshoring,건너보,정용군,휴가일,spatic,aybe,균청,hotline,꽃전,주사회,내노라하,오용석,황영성,정광희,박자연,ransmission,유리방,안창근,북받친,개각도,ured,전영신,influencer,이코노미플러스,강성삼,tanford,짝짜꿍,oule,박구현,육추,alentine,마셨으나,원체험,공용전,맡길지,카바스,heet,마이클코어스,리파이너리,노루발못뽑이,오클랜드항,우기정,rgonomic,배당안,atients,러우친젠,송승종,남재열,여준구,밭떼기,악액질,닙을,박외,섬지,김문구,수문병,이연제,신근호,꺄르르,박선순,길상산,에이아이엠,수위계,배재봉,한광현,건다고,pinion,독산로,새면,맥간,나주영,정태경,휴식장,ymptom,송용석,항공선,신유동,날라야,조근조근,ustice,달려갑니다,벌여도,쿠벤,장호정,우상민,실패담,한경국,정쾌영,브라인드,거주지주의,횟불,착비,김형윤,박혁진,aewoo,유명열,jeilo,강지식,paybooc,장동찬,임채관,besity,박홍열,총근,전영인,hreat,트리클로산,김규상,artsuwon,범가자미,버거운데,위인설관,손병선,vog,강경남,암경,alls,강경우,페닙,onsta,세워뒀,arkets,결망,nified,isit,윤장우,품의서,dministrative,클지,jjcf,기초화장,올핸,abriel,윤경환,조형진,oke,목진원,진철훈,강행복,강의법,ivo,안순덕,눈물범벅,usical,꽃모종,김기곤,auri,안도걸,축사밀,지죽동,hhh,고기쌈,angkok,김민송,deacetylase,곽지환,양경미,shinhwaworld,lobalization,격해질,강기호,상모돌리기,장태선,kra,감회가,손봉채,urbine,ania,artoon,지니치,범털,페팸,단속선,변정우,사시찬요,연거리,jbtp,송의정,danbitoktok,조남창,손절,eminism,ourth,전영한,짚불,정신택,여준형,홍석만,강길원,전출생,가빠,주섬주섬,임용환,최종경,oop,페널티는,디뷰,전승원,물강,oho,권혁서,심가희,노기원,ulinary,관리력,방귀쟁이,손틀,거랭,황승룡,송현호,nsigh,utrition,eritage,조문규,눈개승마,uotient,한종석,정희남,김미량,두드려온,rotect,진상이,박주철,여학도,송재만,최영화,배지수,둔율,협잡물,집수매거,owered,aradigm,ignhere,이선덕,수선거,나맥,박재율,갱위,거래금,전지가위,아크말,ubic,혼연일치,주무른,정상이,regen,creora,ongolia,서영태,손기영,찻값,살아간다면,맞춰져야,자음강화탕,육미지황탕,박현덕,요식업자,아충,ressure,김봉정,나영배,대림건설,점파,서거원,임감,가로저,배홍석,복관세,eliable,정지권,황화구리,차석호,ria,ltos,맥우,진형석,신순철,hongseong,고광일,민경창,노르데그렌,ecome,띠앗,양희원,unway,궁세,최예용,ulfur,손현찬,elen,지성우,ndication,입찰일,박휘락,ompetence,오문식,복착,배정희,손창우,풀대,정권수,구본성,조희천,독서력,유정용,가팔라진,이송현,주흥철,애어른,뒷걸,못잖,enovo,efreshing,백광호,yanmar,코엑스센터,arlo,활빈단,swine,현영석,서명동,gricultural,버틴다고,ongdo,lmy,suwonlib,서선희,정영권,ooms,iewing,kice,윤용철,ille,황진현,낯섦을,애임스,박동복,유지곤,교화인,홍명섭,권정순,눈신경,illet,소납,맞고발,옥침,oldin,전성각,파비안느,최은우,수민원,쉑버거,역급,신남식,악착,전보현,rooklyn,동형모,인태연,건전성,최규완,누간,진혼제,acebook,천군만마,마이포,레이크찰스,alks,황영헌,onest,권기원,럴파크,진교원,윤경주,박팔용,배문식,김흥순,tourventure,예스컴,누그러질,김오현,중고참,김진중,이탄희,드링크제,문창현,띠배,독축,용왕굿,릭슈,최영삼,최두섭,조만현,김윤국,정종채,알배기,천정숙,임병용,전형태,입원율,okcj,accountinfo,헤어트리트먼트,배석철,unx,김농오,박노신,진수화,jinhak,강덕영,뜰팡,설눈,나섭니다,onditioner,rincess,한상호,허수복,양인태,이옥재,털이개,최삼섭,오상용,박경하,구본관,단가표,조타기,슈펙,싱가포르항,설범,ouglas,usto,이규하,척치,오성욱,urgeons,휼민,감상법,trauss,fulfillment,coustic,rontiers,이정상,켑카와,잘탄,anon,인공감미료,온상지,배정원,정연규,심상경,남상목,밥식,unicipal,강달어,황석어,박치화,anani,사이드먼,하성진,견인불발,땅세,kma,rewery,artin,jejusi,조항균,추교훈,박옥경,조용효,oyang,지에스아이,ntitled,한갑호,우광훈,김정회,강만생,tarter,송해림,확트인,이송자,폐출혈,epot,uestion,공난,orma,하유리,차승후,정보연,남복현,oyful,른자,전준희,asmine,목감기,솔방,양길현,otplace,김상림,케빈나,었겠,oices,nvest,덩따,wday,신조서,문성식,asan,정연일,정경기,장완익,민부기,강굴,서동선,김기상,파워넷,김희도,윤동섭,고충환,송계영,정순태,한경석,우외,razil,hanpuru,율이,황태규,imcd,ouge,윤창훈,초연곡,엄철호,흙모래,임상혁,디관,양승환,반빙,isney,이점식,삼봉산,급신장,두개저,bjet,oltaic,하소천,홍현식,유한기,wisse,피앤텔,ineral,강현규,우경식,익추,rawing,찬데,미군부대,ortress,박서아,이웅렬,차성진,임성화,과수밭,오재철,엄혁용,비오케이,휴면성,오동원,임영선,ips,개영역,tandardization,닙에,hairman,챙겨간,xon,뜨개옷,거마비,수구장,한원식,심비디움,서울로,닻배,서범진,발파기,eplacement,임성혁,로버트할리,오문철,최두진,얍스,음증,건바운드,유시완,eijing,최복호,aipei,김상율,이정률,entus,휘몰아친,거접,위채,ktb,향주머니,제일전기공업,최예준,wap,검란,김광길,라디샤,학습클리닉,이준복,돼지꿈,정한중,서성수,츄원,수평아리,윤승진,이병택,유재철,potify,에이치에프,박재묵,ealthy,개표장,야간작업,국생,esilient,ooth,장찬리,ichel,윤창용,김덕연,풀쌈,세경본풀이,입춘굿,조철주,체불금,박계호,furnished,원종규,netline,kcgp,쁨,한상근,reamday,하영철,aher,oledo,우범자,hining,수기관,allad,강우준,권수철,정휴일,교례,장희구,외자매,안재승,한국미협,onata,위담,조덕기,채창호,인접도,백재승,safekorea,야말반도,남가람,신재경,ranche,이산호,책날개,akamura,ifferential,eadline,omm,조병연,달러환,hampion,우멍,장수민,rnd,윤희식,부족량,정부석,민풍,투자재,윤종준,면임,동부엔지니어링,tomic,갖춰도,olin,azard,ibes,방창현,장문광,이상억,raphics,독거사,백배사죄,심목,권용욱,etrochemical,epatology,웃수,잔악상,탐낼,정완진,정찬희,점설,배병길,비켜갔,srb,산규,urbomachinery,혼불문학상,강영순,최영종,장종택,김정설,하만덕,이혜웅,heon,황순철,주반응,발전용수,안민관,onnection,신상범,ochava,맛김,전구기,코플릭,점화대,엿보인,총판매,연제식,백세희,타머,장롱면허,에프원,념팀,고용철,ehabilitation,함양량,실인증,owder,단안경,열접착,최동일,외탕,문현철,던져줄,기본예절,드보스,elief,keco,밝혀둔다,신해진,황재욱,윤원균,섹셔널,스탠리재단,달려올,bstract,유관국,mperial,고누판,주정수,양우현,인터치,oute,신수봉,손유희,ocs,rgenesis,nspoken,강정선,서상재,숯가마,그룬디,망망,한승석,wd,ndangered,조광권,들춰냈,황인춘,songpa,earney,빼줘야,ikkei,제시카리,한기온,조업현,tatistics,주상현,suwonloves,구정화,박노현,ordon,ndreas,ikkelsen,koreanair,패브리스,앙약,thernet,노경필,utch,다이먼,감찰제도,합굿,흰죽지꼬마물떼새,김향은,riental,이중복,파인스톤,되살아날지,베스먼,효양산,고태규,ndoscopic,김소양,sisul,isiting,워매,lanet,구두선,보살펴야,sdot,서문식,디밀,손건재,신종욱,보릿대,치밀도,유동도,itexco,김홍곤,이선욱,음성꽃동네,matata,박길배,itp,예민해,유부도,신은섭,두근거린다,싸리버섯,박형덕,정상봉,이삭목,eats,치근막,박병익,atency,임규성,이유린,단료,farmstay,박호철,rying,구쁘,조천용,기계체,오숙자,보나미,이창조,항업,김재휴,canner,autilus,황산도항,배동현,도본,핵실,내다봐야,이승룡,초단파대,내림굿,신딸,이문덕,esert,분거,장익순,치홍,남원산성,보구곶,신호연,오태헌,부관리,재생종,백종선,이화용,이명묵,죄종,브롬달,조삼근,harlie,urner,탈수록,방철,정종숙,attern,임강빈,모우드,luid,achinery,장호순,개복동,선퇴,urr,호스피스센터,oway,unflower,둥발,picking,산황,박준환,pusan,cashslide,사토장,nspired,peedy,eltos,인코넬,엄진섭,윤재연,gjf,절예,강석연,책가,책가도,김금선,미발령,노용갑,업축,atz,선금급,약콩,쥐눈이콩,ugas,perience,제에거,구명부환,서성호,케일린,여수인,백실,정영래,페튜니아,김중신,박병근,증체,귤빛,돌흙,송대근,임채훈,황교선,가셔야,천영준,윤태하,강희숙,회치,함봉,들어찰,안식구,이은장,유시종,표등,역병균,esri,udden,에칸,rhan,rcan,avve,issan,끌로디,일반세,임시영,조돈현,rake,amera,천장관절,우애자,ebastian,일출시,허준녕,바사삭,푼푼,임태성,김남근,거품기,모르방,심실보조장치,캐반,토웅,뒤처진다는,산국화,노인상,끌려다닐,윤호준,욕객,arren,펍지주식회사,조정조,iffany,정성장,레보도파,열융착,박희욱,야중,eister,이금기,onitor,임지아,머리끄덩이,김홍목,애처로움,ransparency,축계,esktop,브라질너트,고재규,nderground,isclosure,윤기돈,박생광,밤빛,띠모,굼터,궁초,uad,뷸러의,rooming,방민서,이갑철,suya,김갑주,씨드림,화입식,휘뚜루마뚜루,박대연,손현숙,haeundae,손병길,장경운,석상일,펼쳤으면,abor,티엔에프,김순홍,하재홍,attle,임희영,류정환,드림식,소화조,배형원,정효민,ndiegogo,김해양,올라갈지,왈짜패,고토양,raking,문뜩,김호삼,신용민,오진원,강신례,전주판,짝신,교각살우,술도깨비,건식가,nterpretation,무소득,이수웅,작업선,수도망,임남진,양정훈,홍황,타가리,시큰거리,류종명,mbrella,최규범,전병서,색소반,에움길,김정효,yoy,올계,담월,가진동,박창열,하이드롤릭,달개비,ndra,이우규,조준열,박관순,박철상,atsons,alking,nvisible,딱콩,서재성,ithium,장현숙,윤기용,송종현,고희영,지성호,묘판,rozen,아랫돌,aydream,enskra,전윤경,김용군,동휴,김계환,김규범,쁘아의,mbiente,이제희,송중근,고봉식,마득락,조자용,오행시,서왕진,황병진,한국배,훼리와,웅섬,음혈,pplications,세중리,프라이드치킨,매보,은혼식,소리소,enewal,주판알,양광석,흥흥,udwig,호드기,박동환,지역할당제,모명,이권수,엔스코,nshore,abh,삼모작,phthalmology,색달랐,이인중,마르께스,revor,amuel,김인봉,정지문,쌀통,runch,김신환,김성락,이강열,내마모강,윤석기,댄토니,hampions,박영심,rilliant,이병열,이륜구동,yangju,탄서,한상신,클러시,구자일,efinery,수통리,음료유,irus,남지민,erceptin,유상곡,cbnu,가리맛조개,스캐그웨이,xford,오홍식,구급약품,민현정,부슬부슬,사들였으나,평년작,허경욱,allshow,allshowtv,imulator,걸린다며,솜덩어리,야채수프,정성국,인조모,고창운,김윤현,rompt,안수용,ommy,kocef,ricsson,꿈꾼다면,밥물,장원종,정낙규,abi,객토,임한규,anwha,국화동,전하영,안진섭,급수전,ompressor,채훈관,고영일,프로바인,erek,박만진,애프터케어,조도현,심준섭,전영도,일굴,쓸려온,구경식,후약,인사란,조배식,김용도,전자설,이일세,밤버섯,노규식,변지수,외국식,apstone,독일가문비,원장원,임정미,변영삼,백종희,이규래,lizabeth,임연숙,김영휴,가져와도,춰야,남등,집지킴,휴스틸,최영상,eezn,anada,황의석,roducer,진주알,닥밭,전희준,육효,최우현,봉황송,황승택,고원길,홍창표,문선혜,오은진,방음창,ixel,천장크레인,홍성천,orter,이태룡,재제주,경계현,면허료,isten,김청미,최신현,이정조,타려,ynol,국민조종사,전한다면,ocalization,에스비아르,권근상,씨크릿우먼,헤어웨어,다딩,환송사,wenties,당나,정해일,남기윤,화취,진말숙,성형기,군농,최철안,약념,백복인,정영두,전세살이,기사법,eely,토데이,능철,김민근,nner,외화내빈,한옥이,정병덕,유영덕,이옥섭,댑은,벳츠,간협,연애고,양병찬,강양현,박다예,불입액,한국산업은행,흰수마자,시음장,홍민희,lcohol,박진탁,류호진,owers,심정현,김경조,마산천,진투,투명성,손품,장할,이안재,쥐어박,포스턴,annick,lemarec,동결절,성인수,국육,arta,포스크,전수원,끓어올랐,박경용,정석래,현일선,유재구,생맥,채창현,가효,이양균,asual,차폐율,이호상,관음죽,조흥순,정기주,원더리,황영섭,경포교,김동령,냉골,김용걸,이건세,임덕진,장춘희,항타기,따가워,서키,jgroh,데리파스카,빈속,꽈뚜룹,ogging,최완석,여성어,이인찬,배종우,새배,곽상언,세소래,계명재,장원용,폴리아세탈,utomobiles,김효실,쌀누룩,지방증,최대우,방정호,쁘아쏭은,팔로모,유창훈,현실론,schc,건조채소,easure,왕철수,김응철,상환권,안창홍,조상명,이선형,방인철,iny,원용관,소방망루,최병성,임대경,김길연,박재관,이왈드,iotics,atex,필벌,추워져서,낭푼,이강순,김희천,신계종,솔수펑이,등인,임승진,이춘협,오도열,최정웅,꽃단장,레드브릭,가섭산,영등신,전용진,박훈기,이동결,최지형,라네이,구기자차,황미숙,박두기,삐거덕,이건재,김치용,정태건,jne,homedu,맥길로이,조기주,수험장,서재익,ayed,ahyan,한날한시,tories,받아들여도,장홍석,주보험,endering,추슬러야,심칠,maze,활승,김학길,박완근,황영자,섐보는,임헌경,anfred,달고기,근절책,enta,서용선,artmehara,ibra,해거리,착복식,화변기,filer,백남홍,지용신,전삼현,정휴양,edicines,istributed,위원량,문상진,최은상,섬쑥부쟁이,최광열,최한선,이경학,신영욱,ulla,손태환,임창근,화포항,edm,괄개정조례안,oncredit,최서남,클레빈,심의영,atabase,애쑥,김길두,유철종,ekr,경보등,김호인,엄복,stronaut,nlock,장유식,최환석,tlas,질경이,inartplatform,설동훈,agazine,ukhara,허선회,ryptography,온수풀,건간망,유엠피,소기업소,계정수,스머지,전주식,aygo,대형선망어업,온더고,습량,쉑스택,iece,안인석,해드림,하나로유통센터,맥앤치즈,ctivator,이근재,꽃따기,재생모,정중호,페톨은,temi,험요,ilovewater,복합국,쓱싹,구본현,두레놀이,rror,ikini,itness,알판,최재준,정욱희,풀등,석세포,nitary,양인모,ueensland,민호기,hrist,안미희,운동비,uyaladdin,흰목물떼새,gtp,렝쓰,avement,아이엔에스,장성숙,김강주,맹동섭,손근호,서해성,dkoso,버젓히,고병철,언어도단,박의현,신재철,송현식,임은기,ifetime,chievement,stent,서의택,해둔다,휴비딕,김외섭,임홍석,oms,dult,강순팔,큰맘,자하거,아이소바,박광웅,최선생,한희주,푸옹,mport,hythm,보조약,넉가래,raditional,원목재,냉각관,emorandum,김완호,환액,윤창영,교직이수,ydro,ompute,utophagy,불리온,전업사,매스트르,짤강,챙긴다고,져갈,디메트라,남기상,arnacha,최은표,알렉스김,사각게,압통점,목욕료,납작보리,염효과,쇠미역,aterial,코쿼드,꾀장어과,꼼장어,묵꾀장어,동악산,고풀이,큰금계국,김덕건,유병근,김회영,iteracy,선갑도,전민현,akefield,uam,최광욱,이석로,김혜심,adiga,고혁,황귀연,조인희,교차보,권병옥,양정배,안광선,황광,송성진,김학근,pta,상악동,권준욱,박종승,디딤쇠,남겨왔,ersey,사생취의,유선미,고동준,taptap,바차타,구고법,보로금,이주항,iate,지나간다면,총환,기동포,안하무인격,춤토르,빈아,아티바,가덕산,lc,지영철,ablet,dyssey,랲의,안택순,안형순,베일링,지급보,난용성,잉글룬드,습득물,윾튜브는,페톨의,알찼,tainer,서천범,이진실,김사과,istening,김차중,oring,ilex,신인재,임병대,서정금,prite,페톨이,이흥용,대풍류,메마름,브레이크댄싱,taean,busanjob,황풍리,금당산,주시드,utralian,자가운전자,임용근,김동귀,감소기,최형호,이대공,윤중근,응원객,우량목,elting,도쿄라멘,김봉태,김향희,신치현,장용선,헨들리,김성후,오세환,코스만,신판수,백년초,레디믹스트,유도현,박숙영,이지엽,양죽,강지윤,송계일,복분,자즙,박수관,권기식,구준희,딥스위치,윤선정,책안,랴오둥만,설원희,보쳉,랜드레이스,성환부,자산액,합계표,수문군,도약판,유철환,hilippines,배명애,ves,윤슬아,사답,금구류,출혈량,오승재,톤세,삽식,유한종,연화증,효열비,이릿,명지원,술위,메워준,ares,etra,ookie,ogue,베어백,이혜옥,맡겨온,kyrise,윤성천,윤병한,ilence,aemian,대운천,icheon,숙여야,nonsan,정종미,안승한,율무차,윤종국,럴모터스,이충곤,강중구,emax,ptic,장유재,orona,김부곤,박재억,ltium,ruit,김선준,스카티카메론,geless,부축빼기,emto,와이케이,떠내려왔,홍승직,주경기,경갑수,정현택,ncryption,꿔온,칭얼거리,장덕중,장용지,아란치니,활선,itcoin,시테섬,주기재,레귤레이션,모판흙,안해성,vailability,흰불나방,묘포,우종순,안애순,홍현익,임봉재,백출,손승범,정한우,닙과,ptown,귀저,부재지주,nnie,기름샘,류재학,대한요트협회,rene,정병모,조재필,윤창희,하이캉,손은주,엄상필,정황래,리어다,견봉,탈의장,jbe,이석홍,이심훈,백현종,뎃골,ccounting,skyedu,출생체중,ubstrate,벌쓰,청산녹수,송진원,빨래집게,박석렬,쉐린,맥킨스,지연진,흰밥,인지상정,백여현,enetics,아내기,사릴,액란,inex,ines,박승범,reast,조희근,예병덕,시코드,하남주,imzalabim,elvet,정연석,연신율,oodie,김현길,찌개백반,봉상생강,보령제약그룹,밴댕이찌개,조민진,한우구,달매,짐카나,에미니,반추상,퓨처리즘,reassive,흙구이,etlist,안흥수,닙료리집,이준갑,천만금,휴차료,심상돈,nna,ouku,hooting,발씨름,incent,홍민지,uperhero,바윈,nap,plitter,방광현,다짐기,통뼈,이운희,임희대,조남준,샤프펜슬,huffling,남해종합건설,보상반,당번제,횟수제,염소수,이산화염소,곤달비,타브라,전병순,apmap,쉬미트,luor,바지게,intendo,abo,임수지,lumni,이채관,배논,법률홈닥터,지엔텍,fishsale,shshopping,노태호,olatile,ompounds,권호상,군차,ebflix,배드보스,암풍,태정호,김가원,arin,인사특위,제전악,최도성,임한혁,오성탁,변창수,계명주,잦아드,임정배,련상,간무협,ypertension,newtro,한선호,강형신,경고제,풋백옵션,박해원,류재완,치술,채종일,람시,ecaa,양승엽,선손,hmed,위권,탁생,강판석,차인홍,창후항,안진아,유문종,해양도시가스,이응석,ranslational,김진혜,길청,화전가,이뤄지는지를,박상건,오채영,lobo,돈맥,라지브간디,심희정,oldex,접수인,이주광,추실,어름사니,손명진,묵인희,배진우,lilybyred,mcd,전병유,타코라디,노모그램,온수난방,문병현,돌망태,박충기,금쟁이,신병순,딱지본,어머닌,상이용사,임용철,lum,구정물,하태영,극침,ummings,장봉규,산벌,이순행,타난,남대남,오도이,홍진태,채정석,vailable,정교순,ngredients,묵정밭,조아람,오범식,부르존,점액낭염,merald,붕호,tilization,수소저장합금,hinh,최남용,유한이,이의봉,박보배,호룡곡산,박관규,이광남,권혜림,정홍언,심영기,양희찬,daegufc,운대관,송영욱,고정판,안봉주,하배관,석안,댄포드,jbnu,잡심,곡실,김대운,송재열,좌석권,조성천,연소관,내부사,에이티에스,장영조,농편,솔문,최저액,안정오,캠비,제이버,죠스떡볶이,김운봉,힐마,namdopass,이경백,지파이브,아시아종묘,청새리,나민호,원유정,케이케이,쉬프만,냉장차,onsan,모기약,천장틀,itbit,유세차,지용택,정이든,고중환,뒷동,전병창,정동헌,eeam,홍순성,문형룡,고에츠,lgg,송상용,메밥,외연열도,발권력,김여화,atthew,toga,질루,제니튼,박도운,ltracube,수벽,장효민,각도자,국중하,기똥찬,고냉지,이효열,하버만,hlorthalidone,통관장,강진만,스피크먼,지전춤,믕,ransparent,이권호,감모율,양주팔괴,검안기,시스원,사람주나무,강현화,ynthesis,릅니다,스탑북,oie,imultaneous,카바코스,이전배,inovate,폐화,박성지,공인수,안병민,쌀대,포도막,펍큐,카쇼기,리프시츠,솽스이,고무바닥,천대용,갱미,지엠티,티보즈,전춘섭,댕구알,지웬,너도개미자리,xpad,탈선행위,씨오,구자생,디클린,resented,kylife,류희영,챔챔이,칼제비,임완수,특행,조산구,장길영,방랑객,윤병묵,권진하,erzuma,천은정,loody,ggplant,고태우,vef,임채승,권용근,페네그린,공디,반가워할,hilla,샹차오,kct,균핵,나성수,ngenia,뜰방,사괴석,정성교,전용복,타작마당,전화학,장대패,지용구,전창수,hopsticks,겠다라는,저도어장,대지비,통환,경련증,비엔나커피,견중,퀴아젠코리아는,문진오,ockets,방울잔,주보영,비화가야,먹감,이파람,고이상,공명지,온담,주현수,정종범,전낙,윤재우,eptune,닥쳐올지,따까리,김애령,혼양,복합창,전용신,권보미,멘델손,김신복,ydft,제이스타일,줌치,탕관,변명환,장성순,백의종,솔복,차릴지,공검지,구영회,한순진,합삭,학생과,토사자,간동맥,기능기,박동섭,말질,제주개,토종개,독널,퀴셀,식태,벚나무사향하늘소,아다니,무꽃,화학색,숑사탕,글루탐,무대막,전신용,큐라이트,신단비,김욱환,건기공,레로쉬,uynh,박태화,이전문,래유,휴비츠,riginals,ypher,도흥록,hoton,히드로겔,빳은,어린누에,원형준,고팽,아트왈,부계열,신준우,방습지,최훈락,tiis,강남호,햇김치,sey,세후도,은악양선,권승혁,침샘염,임길진,이준비,허진옥,들매화,추희,르몽도르,특별관람석,고려인삼공사,퀄트릭스는,밤콩,meq,금혁,동도금,족산,케나프,"
     ]
    }
   ],
   "source": [
    "# 어떤 단어들이 늘어났는가 확인\n",
    "\n",
    "for k in model_2.wv.vocab:\n",
    "    result = model.wv.vocab.get(k, \"0\")\n",
    "    if result==\"0\":\n",
    "        print(k, end=\",\")"
   ]
  },
  {
   "cell_type": "code",
   "execution_count": 51,
   "metadata": {},
   "outputs": [],
   "source": [
    "model_2.save(\"/repo/course/sem21_01/youtube_summarizer/dataset/pretrained_word2vec/word2vec_finetuned.bin\")"
   ]
  },
  {
   "cell_type": "code",
   "execution_count": 57,
   "metadata": {},
   "outputs": [],
   "source": [
    "finetuned_wv = model_2.wv"
   ]
  },
  {
   "cell_type": "code",
   "execution_count": 52,
   "metadata": {
    "id": "-30U2RxZI-D2"
   },
   "outputs": [],
   "source": [
    "# https://www.infoking.site/16\n",
    "# https://jjdeeplearning.tistory.com/6"
   ]
  },
  {
   "cell_type": "markdown",
   "metadata": {},
   "source": [
    "### Load Fine-tuned Word2Vec Model & Vectors"
   ]
  },
  {
   "cell_type": "code",
   "execution_count": 53,
   "metadata": {},
   "outputs": [
    {
     "data": {
      "text/plain": [
       "<gensim.models.word2vec.Word2Vec at 0x7fe09a833cf8>"
      ]
     },
     "execution_count": 53,
     "metadata": {},
     "output_type": "execute_result"
    }
   ],
   "source": [
    "import gensim\n",
    "from gensim.models import Word2Vec\n",
    "\n",
    "\n",
    "model_prac = Word2Vec.load(\"/repo/course/sem21_01/youtube_summarizer/dataset/pretrained_word2vec/word2vec_finetuned.bin\")\n",
    "\n",
    "model_prac"
   ]
  },
  {
   "cell_type": "code",
   "execution_count": 58,
   "metadata": {},
   "outputs": [],
   "source": [
    "from gensim.models import KeyedVectors\n",
    "\n",
    "finetuned_wv.save(\"/repo/course/sem21_01/youtube_summarizer/dataset/pretrained_word2vec/finetuned_wv.kv\")"
   ]
  },
  {
   "cell_type": "code",
   "execution_count": 61,
   "metadata": {},
   "outputs": [
    {
     "data": {
      "text/plain": [
       "<gensim.models.keyedvectors.Word2VecKeyedVectors at 0x7fe08332ec88>"
      ]
     },
     "execution_count": 61,
     "metadata": {},
     "output_type": "execute_result"
    }
   ],
   "source": [
    "reloaded_word_vectors = KeyedVectors.load(\"/repo/course/sem21_01/youtube_summarizer/dataset/pretrained_word2vec/finetuned_wv.kv\")\n",
    "reloaded_word_vectors"
   ]
  },
  {
   "cell_type": "code",
   "execution_count": 65,
   "metadata": {},
   "outputs": [
    {
     "data": {
      "text/plain": [
       "array([ 0.2991806 ,  0.22248697,  0.43511766,  0.25895345, -0.06910251,\n",
       "        0.17864834,  0.5707439 ,  0.33198267, -0.56168944,  0.15012914,\n",
       "       -0.48048452,  0.10886598,  0.95291424, -0.6656376 , -0.01721039,\n",
       "       -0.12382434,  0.33175135, -0.1997768 ,  0.45495436,  0.05084743,\n",
       "        1.1117018 ,  0.07934755, -0.09810785, -0.20020787, -0.09609537,\n",
       "        0.08259846,  0.28931755, -0.35209242, -0.06767287, -0.14012145,\n",
       "       -0.21060923,  0.14916308, -0.11388788, -0.07301804,  0.28009343,\n",
       "       -0.07612846, -0.15479222,  0.00236909, -0.42169824, -0.05550557,\n",
       "        0.05788445, -0.01412638,  0.73523134, -0.16871905, -0.11922143,\n",
       "       -0.16073903,  0.25312254, -0.4280252 , -0.14929976, -0.33271357,\n",
       "        0.47214702,  0.01922962,  0.12974948, -0.649931  ,  0.07555343,\n",
       "       -0.0176564 , -0.18954116, -0.6716446 , -0.07588163,  0.03062781,\n",
       "       -0.05300049, -0.3634111 ,  0.10411528,  0.9098448 ,  0.12853889,\n",
       "        0.53329414,  0.12131036,  0.01449181,  0.27068338, -0.41841722,\n",
       "        0.11243644, -0.7112447 ,  0.51474404, -0.1401905 , -0.7057819 ,\n",
       "        0.19284068,  0.08762494, -0.09540343,  0.15827642, -0.4003675 ,\n",
       "        0.09852032,  0.0190461 ,  0.06615639,  0.1607174 , -0.06858341,\n",
       "        0.47181383, -0.37748963,  0.02255709, -0.13158266, -0.31582323,\n",
       "       -0.36048183,  0.00333103,  0.15546058, -0.3970231 , -0.4696997 ,\n",
       "       -0.01320295, -0.39212948, -0.24964386,  0.17721051,  0.28514174],\n",
       "      dtype=float32)"
      ]
     },
     "execution_count": 65,
     "metadata": {},
     "output_type": "execute_result"
    }
   ],
   "source": [
    "reloaded_word_vectors[\"안녕\"]"
   ]
  },
  {
   "cell_type": "code",
   "execution_count": 64,
   "metadata": {},
   "outputs": [
    {
     "data": {
      "text/plain": [
       "array([ 0.2991806 ,  0.22248697,  0.43511766,  0.25895345, -0.06910251,\n",
       "        0.17864834,  0.5707439 ,  0.33198267, -0.56168944,  0.15012914,\n",
       "       -0.48048452,  0.10886598,  0.95291424, -0.6656376 , -0.01721039,\n",
       "       -0.12382434,  0.33175135, -0.1997768 ,  0.45495436,  0.05084743,\n",
       "        1.1117018 ,  0.07934755, -0.09810785, -0.20020787, -0.09609537,\n",
       "        0.08259846,  0.28931755, -0.35209242, -0.06767287, -0.14012145,\n",
       "       -0.21060923,  0.14916308, -0.11388788, -0.07301804,  0.28009343,\n",
       "       -0.07612846, -0.15479222,  0.00236909, -0.42169824, -0.05550557,\n",
       "        0.05788445, -0.01412638,  0.73523134, -0.16871905, -0.11922143,\n",
       "       -0.16073903,  0.25312254, -0.4280252 , -0.14929976, -0.33271357,\n",
       "        0.47214702,  0.01922962,  0.12974948, -0.649931  ,  0.07555343,\n",
       "       -0.0176564 , -0.18954116, -0.6716446 , -0.07588163,  0.03062781,\n",
       "       -0.05300049, -0.3634111 ,  0.10411528,  0.9098448 ,  0.12853889,\n",
       "        0.53329414,  0.12131036,  0.01449181,  0.27068338, -0.41841722,\n",
       "        0.11243644, -0.7112447 ,  0.51474404, -0.1401905 , -0.7057819 ,\n",
       "        0.19284068,  0.08762494, -0.09540343,  0.15827642, -0.4003675 ,\n",
       "        0.09852032,  0.0190461 ,  0.06615639,  0.1607174 , -0.06858341,\n",
       "        0.47181383, -0.37748963,  0.02255709, -0.13158266, -0.31582323,\n",
       "       -0.36048183,  0.00333103,  0.15546058, -0.3970231 , -0.4696997 ,\n",
       "       -0.01320295, -0.39212948, -0.24964386,  0.17721051,  0.28514174],\n",
       "      dtype=float32)"
      ]
     },
     "execution_count": 64,
     "metadata": {},
     "output_type": "execute_result"
    }
   ],
   "source": [
    "reloaded_word_vectors.get_vector(\"안녕\")"
   ]
  },
  {
   "cell_type": "markdown",
   "metadata": {},
   "source": [
    "### Getting Sentence E,e"
   ]
  },
  {
   "cell_type": "code",
   "execution_count": null,
   "metadata": {},
   "outputs": [],
   "source": []
  }
 ],
 "metadata": {
  "accelerator": "GPU",
  "colab": {
   "collapsed_sections": [
    "O4QYT3BVK64Z",
    "c8R2EM1wHtLm"
   ],
   "machine_shape": "hm",
   "name": "자연어 전처리_실험.ipynb",
   "provenance": []
  },
  "kernelspec": {
   "display_name": "Python 3",
   "language": "python",
   "name": "python3"
  },
  "language_info": {
   "codemirror_mode": {
    "name": "ipython",
    "version": 3
   },
   "file_extension": ".py",
   "mimetype": "text/x-python",
   "name": "python",
   "nbconvert_exporter": "python",
   "pygments_lexer": "ipython3",
   "version": "3.6.9"
  }
 },
 "nbformat": 4,
 "nbformat_minor": 4
}
